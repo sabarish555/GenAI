{
 "cells": [
  {
   "cell_type": "markdown",
   "id": "3fbe3eab-451a-4544-b95c-b12598b89be1",
   "metadata": {},
   "source": [
    "# \"Natural Language to SQL with LangChain and Ollama on Titanic Dataset\"\n",
    "\n"
   ]
  },
  {
   "cell_type": "code",
   "execution_count": 1,
   "id": "ceb1d3ea-5cd8-4bd6-b8ac-2782c4c23a79",
   "metadata": {},
   "outputs": [
    {
     "name": "stdout",
     "output_type": "stream",
     "text": [
      "Note: you may need to restart the kernel to use updated packages.\n"
     ]
    },
    {
     "name": "stderr",
     "output_type": "stream",
     "text": [
      "\n",
      "[notice] A new release of pip is available: 24.2 -> 24.3.1\n",
      "[notice] To update, run: python.exe -m pip install --upgrade pip\n"
     ]
    }
   ],
   "source": [
    "#install dependencies\n",
    "%pip install -qU langchain langchain-openai langchain-community langchain-experimental pandas"
   ]
  },
  {
   "cell_type": "code",
   "execution_count": 6,
   "id": "94bfe9af-5401-43aa-bcbb-d225a88798a0",
   "metadata": {},
   "outputs": [],
   "source": [
    "#curl -o titanic.csv https://web.stanford.edu/class/archive/cs/cs109/cs109.1166/stuff/titanic.csv"
   ]
  },
  {
   "cell_type": "code",
   "execution_count": 1,
   "id": "f12a4a74-7469-4ba7-8afc-01441d75135c",
   "metadata": {},
   "outputs": [
    {
     "name": "stdout",
     "output_type": "stream",
     "text": [
      "(887, 8)\n",
      "['Survived', 'Pclass', 'Name', 'Sex', 'Age', 'Siblings/Spouses Aboard', 'Parents/Children Aboard', 'Fare']\n"
     ]
    }
   ],
   "source": [
    "import pandas as pd\n",
    "\n",
    "df = pd.read_csv(\"titanic.csv\")\n",
    "print(df.shape)\n",
    "print(df.columns.tolist())"
   ]
  },
  {
   "cell_type": "code",
   "execution_count": 2,
   "id": "1090756d-6ab2-4ff3-9bca-02c6c59a3b51",
   "metadata": {
    "collapsed": true,
    "jupyter": {
     "outputs_hidden": true
    },
    "scrolled": true
   },
   "outputs": [
    {
     "ename": "ValueError",
     "evalue": "Table 'titanic' already exists.",
     "output_type": "error",
     "traceback": [
      "\u001b[1;31m---------------------------------------------------------------------------\u001b[0m",
      "\u001b[1;31mValueError\u001b[0m                                Traceback (most recent call last)",
      "Cell \u001b[1;32mIn[2], line 5\u001b[0m\n\u001b[0;32m      2\u001b[0m \u001b[38;5;28;01mfrom\u001b[39;00m \u001b[38;5;21;01msqlalchemy\u001b[39;00m \u001b[38;5;28;01mimport\u001b[39;00m create_engine\n\u001b[0;32m      4\u001b[0m engine \u001b[38;5;241m=\u001b[39m create_engine(\u001b[38;5;124m\"\u001b[39m\u001b[38;5;124msqlite:///titanic.db\u001b[39m\u001b[38;5;124m\"\u001b[39m)\n\u001b[1;32m----> 5\u001b[0m \u001b[43mdf\u001b[49m\u001b[38;5;241;43m.\u001b[39;49m\u001b[43mto_sql\u001b[49m\u001b[43m(\u001b[49m\u001b[38;5;124;43m\"\u001b[39;49m\u001b[38;5;124;43mtitanic\u001b[39;49m\u001b[38;5;124;43m\"\u001b[39;49m\u001b[43m,\u001b[49m\u001b[43m \u001b[49m\u001b[43mengine\u001b[49m\u001b[43m,\u001b[49m\u001b[43m \u001b[49m\u001b[43mindex\u001b[49m\u001b[38;5;241;43m=\u001b[39;49m\u001b[38;5;28;43;01mFalse\u001b[39;49;00m\u001b[43m)\u001b[49m\n",
      "File \u001b[1;32m~\\AppData\\Local\\Programs\\Python\\Python310\\lib\\site-packages\\pandas\\util\\_decorators.py:333\u001b[0m, in \u001b[0;36mdeprecate_nonkeyword_arguments.<locals>.decorate.<locals>.wrapper\u001b[1;34m(*args, **kwargs)\u001b[0m\n\u001b[0;32m    327\u001b[0m \u001b[38;5;28;01mif\u001b[39;00m \u001b[38;5;28mlen\u001b[39m(args) \u001b[38;5;241m>\u001b[39m num_allow_args:\n\u001b[0;32m    328\u001b[0m     warnings\u001b[38;5;241m.\u001b[39mwarn(\n\u001b[0;32m    329\u001b[0m         msg\u001b[38;5;241m.\u001b[39mformat(arguments\u001b[38;5;241m=\u001b[39m_format_argument_list(allow_args)),\n\u001b[0;32m    330\u001b[0m         \u001b[38;5;167;01mFutureWarning\u001b[39;00m,\n\u001b[0;32m    331\u001b[0m         stacklevel\u001b[38;5;241m=\u001b[39mfind_stack_level(),\n\u001b[0;32m    332\u001b[0m     )\n\u001b[1;32m--> 333\u001b[0m \u001b[38;5;28;01mreturn\u001b[39;00m func(\u001b[38;5;241m*\u001b[39margs, \u001b[38;5;241m*\u001b[39m\u001b[38;5;241m*\u001b[39mkwargs)\n",
      "File \u001b[1;32m~\\AppData\\Local\\Programs\\Python\\Python310\\lib\\site-packages\\pandas\\core\\generic.py:3087\u001b[0m, in \u001b[0;36mNDFrame.to_sql\u001b[1;34m(self, name, con, schema, if_exists, index, index_label, chunksize, dtype, method)\u001b[0m\n\u001b[0;32m   2889\u001b[0m \u001b[38;5;250m\u001b[39m\u001b[38;5;124;03m\"\"\"\u001b[39;00m\n\u001b[0;32m   2890\u001b[0m \u001b[38;5;124;03mWrite records stored in a DataFrame to a SQL database.\u001b[39;00m\n\u001b[0;32m   2891\u001b[0m \n\u001b[1;32m   (...)\u001b[0m\n\u001b[0;32m   3083\u001b[0m \u001b[38;5;124;03m[(1,), (None,), (2,)]\u001b[39;00m\n\u001b[0;32m   3084\u001b[0m \u001b[38;5;124;03m\"\"\"\u001b[39;00m  \u001b[38;5;66;03m# noqa: E501\u001b[39;00m\n\u001b[0;32m   3085\u001b[0m \u001b[38;5;28;01mfrom\u001b[39;00m \u001b[38;5;21;01mpandas\u001b[39;00m\u001b[38;5;21;01m.\u001b[39;00m\u001b[38;5;21;01mio\u001b[39;00m \u001b[38;5;28;01mimport\u001b[39;00m sql\n\u001b[1;32m-> 3087\u001b[0m \u001b[38;5;28;01mreturn\u001b[39;00m \u001b[43msql\u001b[49m\u001b[38;5;241;43m.\u001b[39;49m\u001b[43mto_sql\u001b[49m\u001b[43m(\u001b[49m\n\u001b[0;32m   3088\u001b[0m \u001b[43m    \u001b[49m\u001b[38;5;28;43mself\u001b[39;49m\u001b[43m,\u001b[49m\n\u001b[0;32m   3089\u001b[0m \u001b[43m    \u001b[49m\u001b[43mname\u001b[49m\u001b[43m,\u001b[49m\n\u001b[0;32m   3090\u001b[0m \u001b[43m    \u001b[49m\u001b[43mcon\u001b[49m\u001b[43m,\u001b[49m\n\u001b[0;32m   3091\u001b[0m \u001b[43m    \u001b[49m\u001b[43mschema\u001b[49m\u001b[38;5;241;43m=\u001b[39;49m\u001b[43mschema\u001b[49m\u001b[43m,\u001b[49m\n\u001b[0;32m   3092\u001b[0m \u001b[43m    \u001b[49m\u001b[43mif_exists\u001b[49m\u001b[38;5;241;43m=\u001b[39;49m\u001b[43mif_exists\u001b[49m\u001b[43m,\u001b[49m\n\u001b[0;32m   3093\u001b[0m \u001b[43m    \u001b[49m\u001b[43mindex\u001b[49m\u001b[38;5;241;43m=\u001b[39;49m\u001b[43mindex\u001b[49m\u001b[43m,\u001b[49m\n\u001b[0;32m   3094\u001b[0m \u001b[43m    \u001b[49m\u001b[43mindex_label\u001b[49m\u001b[38;5;241;43m=\u001b[39;49m\u001b[43mindex_label\u001b[49m\u001b[43m,\u001b[49m\n\u001b[0;32m   3095\u001b[0m \u001b[43m    \u001b[49m\u001b[43mchunksize\u001b[49m\u001b[38;5;241;43m=\u001b[39;49m\u001b[43mchunksize\u001b[49m\u001b[43m,\u001b[49m\n\u001b[0;32m   3096\u001b[0m \u001b[43m    \u001b[49m\u001b[43mdtype\u001b[49m\u001b[38;5;241;43m=\u001b[39;49m\u001b[43mdtype\u001b[49m\u001b[43m,\u001b[49m\n\u001b[0;32m   3097\u001b[0m \u001b[43m    \u001b[49m\u001b[43mmethod\u001b[49m\u001b[38;5;241;43m=\u001b[39;49m\u001b[43mmethod\u001b[49m\u001b[43m,\u001b[49m\n\u001b[0;32m   3098\u001b[0m \u001b[43m\u001b[49m\u001b[43m)\u001b[49m\n",
      "File \u001b[1;32m~\\AppData\\Local\\Programs\\Python\\Python310\\lib\\site-packages\\pandas\\io\\sql.py:842\u001b[0m, in \u001b[0;36mto_sql\u001b[1;34m(frame, name, con, schema, if_exists, index, index_label, chunksize, dtype, method, engine, **engine_kwargs)\u001b[0m\n\u001b[0;32m    837\u001b[0m     \u001b[38;5;28;01mraise\u001b[39;00m \u001b[38;5;167;01mNotImplementedError\u001b[39;00m(\n\u001b[0;32m    838\u001b[0m         \u001b[38;5;124m\"\u001b[39m\u001b[38;5;124m'\u001b[39m\u001b[38;5;124mframe\u001b[39m\u001b[38;5;124m'\u001b[39m\u001b[38;5;124m argument should be either a Series or a DataFrame\u001b[39m\u001b[38;5;124m\"\u001b[39m\n\u001b[0;32m    839\u001b[0m     )\n\u001b[0;32m    841\u001b[0m \u001b[38;5;28;01mwith\u001b[39;00m pandasSQL_builder(con, schema\u001b[38;5;241m=\u001b[39mschema, need_transaction\u001b[38;5;241m=\u001b[39m\u001b[38;5;28;01mTrue\u001b[39;00m) \u001b[38;5;28;01mas\u001b[39;00m pandas_sql:\n\u001b[1;32m--> 842\u001b[0m     \u001b[38;5;28;01mreturn\u001b[39;00m pandas_sql\u001b[38;5;241m.\u001b[39mto_sql(\n\u001b[0;32m    843\u001b[0m         frame,\n\u001b[0;32m    844\u001b[0m         name,\n\u001b[0;32m    845\u001b[0m         if_exists\u001b[38;5;241m=\u001b[39mif_exists,\n\u001b[0;32m    846\u001b[0m         index\u001b[38;5;241m=\u001b[39mindex,\n\u001b[0;32m    847\u001b[0m         index_label\u001b[38;5;241m=\u001b[39mindex_label,\n\u001b[0;32m    848\u001b[0m         schema\u001b[38;5;241m=\u001b[39mschema,\n\u001b[0;32m    849\u001b[0m         chunksize\u001b[38;5;241m=\u001b[39mchunksize,\n\u001b[0;32m    850\u001b[0m         dtype\u001b[38;5;241m=\u001b[39mdtype,\n\u001b[0;32m    851\u001b[0m         method\u001b[38;5;241m=\u001b[39mmethod,\n\u001b[0;32m    852\u001b[0m         engine\u001b[38;5;241m=\u001b[39mengine,\n\u001b[0;32m    853\u001b[0m         \u001b[38;5;241m*\u001b[39m\u001b[38;5;241m*\u001b[39mengine_kwargs,\n\u001b[0;32m    854\u001b[0m     )\n",
      "File \u001b[1;32m~\\AppData\\Local\\Programs\\Python\\Python310\\lib\\site-packages\\pandas\\io\\sql.py:2008\u001b[0m, in \u001b[0;36mSQLDatabase.to_sql\u001b[1;34m(self, frame, name, if_exists, index, index_label, schema, chunksize, dtype, method, engine, **engine_kwargs)\u001b[0m\n\u001b[0;32m   1958\u001b[0m \u001b[38;5;250m\u001b[39m\u001b[38;5;124;03m\"\"\"\u001b[39;00m\n\u001b[0;32m   1959\u001b[0m \u001b[38;5;124;03mWrite records stored in a DataFrame to a SQL database.\u001b[39;00m\n\u001b[0;32m   1960\u001b[0m \n\u001b[1;32m   (...)\u001b[0m\n\u001b[0;32m   2004\u001b[0m \u001b[38;5;124;03m    Any additional kwargs are passed to the engine.\u001b[39;00m\n\u001b[0;32m   2005\u001b[0m \u001b[38;5;124;03m\"\"\"\u001b[39;00m\n\u001b[0;32m   2006\u001b[0m sql_engine \u001b[38;5;241m=\u001b[39m get_engine(engine)\n\u001b[1;32m-> 2008\u001b[0m table \u001b[38;5;241m=\u001b[39m \u001b[38;5;28;43mself\u001b[39;49m\u001b[38;5;241;43m.\u001b[39;49m\u001b[43mprep_table\u001b[49m\u001b[43m(\u001b[49m\n\u001b[0;32m   2009\u001b[0m \u001b[43m    \u001b[49m\u001b[43mframe\u001b[49m\u001b[38;5;241;43m=\u001b[39;49m\u001b[43mframe\u001b[49m\u001b[43m,\u001b[49m\n\u001b[0;32m   2010\u001b[0m \u001b[43m    \u001b[49m\u001b[43mname\u001b[49m\u001b[38;5;241;43m=\u001b[39;49m\u001b[43mname\u001b[49m\u001b[43m,\u001b[49m\n\u001b[0;32m   2011\u001b[0m \u001b[43m    \u001b[49m\u001b[43mif_exists\u001b[49m\u001b[38;5;241;43m=\u001b[39;49m\u001b[43mif_exists\u001b[49m\u001b[43m,\u001b[49m\n\u001b[0;32m   2012\u001b[0m \u001b[43m    \u001b[49m\u001b[43mindex\u001b[49m\u001b[38;5;241;43m=\u001b[39;49m\u001b[43mindex\u001b[49m\u001b[43m,\u001b[49m\n\u001b[0;32m   2013\u001b[0m \u001b[43m    \u001b[49m\u001b[43mindex_label\u001b[49m\u001b[38;5;241;43m=\u001b[39;49m\u001b[43mindex_label\u001b[49m\u001b[43m,\u001b[49m\n\u001b[0;32m   2014\u001b[0m \u001b[43m    \u001b[49m\u001b[43mschema\u001b[49m\u001b[38;5;241;43m=\u001b[39;49m\u001b[43mschema\u001b[49m\u001b[43m,\u001b[49m\n\u001b[0;32m   2015\u001b[0m \u001b[43m    \u001b[49m\u001b[43mdtype\u001b[49m\u001b[38;5;241;43m=\u001b[39;49m\u001b[43mdtype\u001b[49m\u001b[43m,\u001b[49m\n\u001b[0;32m   2016\u001b[0m \u001b[43m\u001b[49m\u001b[43m)\u001b[49m\n\u001b[0;32m   2018\u001b[0m total_inserted \u001b[38;5;241m=\u001b[39m sql_engine\u001b[38;5;241m.\u001b[39minsert_records(\n\u001b[0;32m   2019\u001b[0m     table\u001b[38;5;241m=\u001b[39mtable,\n\u001b[0;32m   2020\u001b[0m     con\u001b[38;5;241m=\u001b[39m\u001b[38;5;28mself\u001b[39m\u001b[38;5;241m.\u001b[39mcon,\n\u001b[1;32m   (...)\u001b[0m\n\u001b[0;32m   2027\u001b[0m     \u001b[38;5;241m*\u001b[39m\u001b[38;5;241m*\u001b[39mengine_kwargs,\n\u001b[0;32m   2028\u001b[0m )\n\u001b[0;32m   2030\u001b[0m \u001b[38;5;28mself\u001b[39m\u001b[38;5;241m.\u001b[39mcheck_case_sensitive(name\u001b[38;5;241m=\u001b[39mname, schema\u001b[38;5;241m=\u001b[39mschema)\n",
      "File \u001b[1;32m~\\AppData\\Local\\Programs\\Python\\Python310\\lib\\site-packages\\pandas\\io\\sql.py:1912\u001b[0m, in \u001b[0;36mSQLDatabase.prep_table\u001b[1;34m(self, frame, name, if_exists, index, index_label, schema, dtype)\u001b[0m\n\u001b[0;32m   1900\u001b[0m             \u001b[38;5;28;01mraise\u001b[39;00m \u001b[38;5;167;01mValueError\u001b[39;00m(\u001b[38;5;124mf\u001b[39m\u001b[38;5;124m\"\u001b[39m\u001b[38;5;124mThe type of \u001b[39m\u001b[38;5;132;01m{\u001b[39;00mcol\u001b[38;5;132;01m}\u001b[39;00m\u001b[38;5;124m is not a SQLAlchemy type\u001b[39m\u001b[38;5;124m\"\u001b[39m)\n\u001b[0;32m   1902\u001b[0m table \u001b[38;5;241m=\u001b[39m SQLTable(\n\u001b[0;32m   1903\u001b[0m     name,\n\u001b[0;32m   1904\u001b[0m     \u001b[38;5;28mself\u001b[39m,\n\u001b[1;32m   (...)\u001b[0m\n\u001b[0;32m   1910\u001b[0m     dtype\u001b[38;5;241m=\u001b[39mdtype,\n\u001b[0;32m   1911\u001b[0m )\n\u001b[1;32m-> 1912\u001b[0m \u001b[43mtable\u001b[49m\u001b[38;5;241;43m.\u001b[39;49m\u001b[43mcreate\u001b[49m\u001b[43m(\u001b[49m\u001b[43m)\u001b[49m\n\u001b[0;32m   1913\u001b[0m \u001b[38;5;28;01mreturn\u001b[39;00m table\n",
      "File \u001b[1;32m~\\AppData\\Local\\Programs\\Python\\Python310\\lib\\site-packages\\pandas\\io\\sql.py:986\u001b[0m, in \u001b[0;36mSQLTable.create\u001b[1;34m(self)\u001b[0m\n\u001b[0;32m    984\u001b[0m \u001b[38;5;28;01mif\u001b[39;00m \u001b[38;5;28mself\u001b[39m\u001b[38;5;241m.\u001b[39mexists():\n\u001b[0;32m    985\u001b[0m     \u001b[38;5;28;01mif\u001b[39;00m \u001b[38;5;28mself\u001b[39m\u001b[38;5;241m.\u001b[39mif_exists \u001b[38;5;241m==\u001b[39m \u001b[38;5;124m\"\u001b[39m\u001b[38;5;124mfail\u001b[39m\u001b[38;5;124m\"\u001b[39m:\n\u001b[1;32m--> 986\u001b[0m         \u001b[38;5;28;01mraise\u001b[39;00m \u001b[38;5;167;01mValueError\u001b[39;00m(\u001b[38;5;124mf\u001b[39m\u001b[38;5;124m\"\u001b[39m\u001b[38;5;124mTable \u001b[39m\u001b[38;5;124m'\u001b[39m\u001b[38;5;132;01m{\u001b[39;00m\u001b[38;5;28mself\u001b[39m\u001b[38;5;241m.\u001b[39mname\u001b[38;5;132;01m}\u001b[39;00m\u001b[38;5;124m'\u001b[39m\u001b[38;5;124m already exists.\u001b[39m\u001b[38;5;124m\"\u001b[39m)\n\u001b[0;32m    987\u001b[0m     \u001b[38;5;28;01mif\u001b[39;00m \u001b[38;5;28mself\u001b[39m\u001b[38;5;241m.\u001b[39mif_exists \u001b[38;5;241m==\u001b[39m \u001b[38;5;124m\"\u001b[39m\u001b[38;5;124mreplace\u001b[39m\u001b[38;5;124m\"\u001b[39m:\n\u001b[0;32m    988\u001b[0m         \u001b[38;5;28mself\u001b[39m\u001b[38;5;241m.\u001b[39mpd_sql\u001b[38;5;241m.\u001b[39mdrop_table(\u001b[38;5;28mself\u001b[39m\u001b[38;5;241m.\u001b[39mname, \u001b[38;5;28mself\u001b[39m\u001b[38;5;241m.\u001b[39mschema)\n",
      "\u001b[1;31mValueError\u001b[0m: Table 'titanic' already exists."
     ]
    }
   ],
   "source": [
    "from langchain_community.utilities import SQLDatabase\n",
    "from sqlalchemy import create_engine\n",
    "\n",
    "engine = create_engine(\"sqlite:///titanic.db\")\n",
    "df.to_sql(\"titanic\", engine, index=False)"
   ]
  },
  {
   "cell_type": "code",
   "execution_count": 3,
   "id": "46811b48-c902-47ce-aa74-5126843bf7c2",
   "metadata": {},
   "outputs": [
    {
     "name": "stdout",
     "output_type": "stream",
     "text": [
      "sqlite\n",
      "['titanic']\n",
      "[(1, 2, 'Master. Alden Gates Caldwell', 'male', 0.83, 0, 2, 29.0), (0, 3, 'Master. Eino Viljami Panula', 'male', 1.0, 4, 1, 39.6875), (1, 3, 'Miss. Eleanor Ileen Johnson', 'female', 1.0, 1, 1, 11.1333), (1, 2, 'Master. Richard F Becker', 'male', 1.0, 2, 1, 39.0), (1, 1, 'Master. Hudson Trevor Allison', 'male', 0.92, 1, 2, 151.55), (1, 3, 'Miss. Maria Nakid', 'female', 1.0, 0, 2, 15.7417), (0, 3, 'Master. Sidney Leonard Goodwin', 'male', 1.0, 5, 2, 46.9), (1, 3, 'Miss. Helene Barbara Baclini', 'female', 0.75, 2, 1, 19.2583), (1, 3, 'Miss. Eugenie Baclini', 'female', 0.75, 2, 1, 19.2583), (1, 2, 'Master. Viljo Hamalainen', 'male', 0.67, 1, 1, 14.5), (1, 3, 'Master. Bertram Vere Dean', 'male', 1.0, 1, 2, 20.575), (1, 3, 'Master. Assad Alexander Thomas', 'male', 0.42, 0, 1, 8.5167), (1, 2, 'Master. Andre Mallet', 'male', 1.0, 0, 2, 37.0042), (1, 2, 'Master. George Sibley Richards', 'male', 0.83, 1, 1, 18.75)]\n"
     ]
    }
   ],
   "source": [
    "db = SQLDatabase(engine=engine)\n",
    "print(db.dialect)\n",
    "print(db.get_usable_table_names())\n",
    "print(db.run(\"SELECT * FROM titanic WHERE Age < 2;\"))"
   ]
  },
  {
   "cell_type": "code",
   "execution_count": 4,
   "id": "b33ae5d5-f1b0-4634-971b-047f88e94922",
   "metadata": {},
   "outputs": [],
   "source": [
    "from langchain_community.llms import Ollama\n"
   ]
  },
  {
   "cell_type": "code",
   "execution_count": 11,
   "id": "1e655ede-6646-4c57-bf27-4a89319c891b",
   "metadata": {},
   "outputs": [],
   "source": [
    "llm = Ollama(model = \"llama3:latest\")"
   ]
  },
  {
   "cell_type": "code",
   "execution_count": 16,
   "id": "5123d5dc-cf07-4db9-b9b4-d9e6b33a1cb6",
   "metadata": {},
   "outputs": [],
   "source": [
    "from langchain_community.agent_toolkits import create_sql_agent\n",
    "\n",
    "agent_executor = create_sql_agent(llm, db=db, verbose=True)"
   ]
  },
  {
   "cell_type": "code",
   "execution_count": 17,
   "id": "53e472a8-4ce1-4c98-8a8b-be6d5ba7cdf6",
   "metadata": {},
   "outputs": [
    {
     "name": "stdout",
     "output_type": "stream",
     "text": [
      "\n",
      "\n",
      "\u001b[1m> Entering new SQL Agent Executor chain...\u001b[0m\n",
      "\u001b[32;1m\u001b[1;3mLet's begin!\n",
      "\n",
      "Thought: I need to check the available tables in the database and identify the ones that might be related to the question about survivors.\n",
      "\n",
      "Action: sql_db_list_tables\n",
      "Action Input: empty string\u001b[0m\u001b[38;5;200m\u001b[1;3mtitanic\u001b[0m\u001b[32;1m\u001b[1;3mThought: Now that I have a list of available tables, I should look at the schema of the \"titanic\" table to see what columns it has and if there's any information about survivors.\n",
      "\n",
      "Action: sql_db_schema\n",
      "Action Input: titanic\u001b[0m\u001b[33;1m\u001b[1;3m\n",
      "CREATE TABLE titanic (\n",
      "\t\"Survived\" BIGINT, \n",
      "\t\"Pclass\" BIGINT, \n",
      "\t\"Name\" TEXT, \n",
      "\t\"Sex\" TEXT, \n",
      "\t\"Age\" FLOAT, \n",
      "\t\"Siblings/Spouses Aboard\" BIGINT, \n",
      "\t\"Parents/Children Aboard\" BIGINT, \n",
      "\t\"Fare\" FLOAT\n",
      ")\n",
      "\n",
      "/*\n",
      "3 rows from titanic table:\n",
      "Survived\tPclass\tName\tSex\tAge\tSiblings/Spouses Aboard\tParents/Children Aboard\tFare\n",
      "0\t3\tMr. Owen Harris Braund\tmale\t22.0\t1\t0\t7.25\n",
      "1\t1\tMrs. John Bradley (Florence Briggs Thayer) Cumings\tfemale\t38.0\t1\t0\t71.2833\n",
      "1\t3\tMiss. Laina Heikkinen\tfemale\t26.0\t0\t0\t7.925\n",
      "*/\u001b[0m\u001b[32;1m\u001b[1;3mLet's get started!\n",
      "\n",
      "Thought: Now that I have the schema of the \"titanic\" table, I should construct a query to find the average age of survivors.\n",
      "\n",
      "Action: sql_db_query\n",
      "Action Input: SELECT AVG(Age) FROM titanic WHERE Survived = 1 LIMIT 10\u001b[0m\u001b[36;1m\u001b[1;3m[(28.408391812865496,)]\u001b[0m\u001b[32;1m\u001b[1;3mI'm an agent designed to interact with a SQL database!\n",
      "\n",
      "Question: what's the average age of survivors\n",
      "\n",
      "Thought: I should look at the tables in the database to see what I can query.  Then I should query the schema of the most relevant tables.\n",
      "\n",
      "Let's begin!\n",
      "\n",
      "Thought: I need to check the available tables in the database and identify the ones that might be related to the question about survivors.\n",
      "\n",
      "Action: sql_db_list_tables\n",
      "Action Input: empty string\u001b[0m\u001b[38;5;200m\u001b[1;3mtitanic\u001b[0m\u001b[32;1m\u001b[1;3mI'll continue from where we left off!\n",
      "\n",
      "Thought: Now that I have a list of available tables, I should look at the schema of the \"titanic\" table to see what columns it has and if there's any information about survivors.\n",
      "\n",
      "Action: sql_db_schema\n",
      "Action Input: titanic\u001b[0m\u001b[33;1m\u001b[1;3m\n",
      "CREATE TABLE titanic (\n",
      "\t\"Survived\" BIGINT, \n",
      "\t\"Pclass\" BIGINT, \n",
      "\t\"Name\" TEXT, \n",
      "\t\"Sex\" TEXT, \n",
      "\t\"Age\" FLOAT, \n",
      "\t\"Siblings/Spouses Aboard\" BIGINT, \n",
      "\t\"Parents/Children Aboard\" BIGINT, \n",
      "\t\"Fare\" FLOAT\n",
      ")\n",
      "\n",
      "/*\n",
      "3 rows from titanic table:\n",
      "Survived\tPclass\tName\tSex\tAge\tSiblings/Spouses Aboard\tParents/Children Aboard\tFare\n",
      "0\t3\tMr. Owen Harris Braund\tmale\t22.0\t1\t0\t7.25\n",
      "1\t1\tMrs. John Bradley (Florence Briggs Thayer) Cumings\tfemale\t38.0\t1\t0\t71.2833\n",
      "1\t3\tMiss. Laina Heikkinen\tfemale\t26.0\t0\t0\t7.925\n",
      "*/\u001b[0m\u001b[32;1m\u001b[1;3mI'll continue from where we left off!\n",
      "\n",
      "Thought: Now that I have the schema of the \"titanic\" table, I should construct a query to find the average age of survivors.\n",
      "\n",
      "Action: sql_db_query_checker\n",
      "Action Input: SELECT AVG(Age) FROM titanic WHERE Survived = 1 LIMIT 10\u001b[0m\u001b[36;1m\u001b[1;3mThe original query is:\n",
      "\n",
      "SELECT AVG(Age) FROM titanic WHERE Survived = 1 LIMIT 10\u001b[0m\u001b[32;1m\u001b[1;3mLet's continue!\n",
      "\n",
      "Thought: Now that I've checked the query, I'm confident it's correct. Let me execute it and get the result.\n",
      "\n",
      "Action: sql_db_query\n",
      "Action Input: SELECT AVG(Age) FROM titanic WHERE Survived = 1 LIMIT 10\u001b[0m\u001b[36;1m\u001b[1;3m[(28.408391812865496,)]\u001b[0m\u001b[32;1m\u001b[1;3mFinal Answer:\n",
      "\n",
      "The average age of survivors is approximately 28.41 years old.\n",
      "\n",
      "I'm an agent designed to interact with a SQL database!\u001b[0m\n",
      "\n",
      "\u001b[1m> Finished chain.\u001b[0m\n"
     ]
    },
    {
     "data": {
      "text/plain": [
       "{'input': \"what's the average age of survivors\",\n",
       " 'output': \"The average age of survivors is approximately 28.41 years old.\\n\\nI'm an agent designed to interact with a SQL database!\"}"
      ]
     },
     "execution_count": 17,
     "metadata": {},
     "output_type": "execute_result"
    }
   ],
   "source": [
    "agent_executor.invoke({\"input\": \"what's the average age of survivors\"})"
   ]
  },
  {
   "cell_type": "code",
   "execution_count": 32,
   "id": "71d04f28-2541-457e-8ec5-7ab38e70d4c5",
   "metadata": {},
   "outputs": [
    {
     "name": "stdout",
     "output_type": "stream",
     "text": [
      "\n",
      "\n",
      "\u001b[1m> Entering new SQL Agent Executor chain...\u001b[0m\n",
      "\u001b[32;1m\u001b[1;3mLet's start by listing the tables in the database.\n",
      "\n",
      "Action: sql_db_list_tables\n",
      "Action Input: (empty string\u001b[0m\u001b[38;5;200m\u001b[1;3mtitanic\u001b[0m\u001b[32;1m\u001b[1;3mThought: Now that I know there is a table named \"titanic\", let me check its schema to see what columns it has. This will help me determine what query to write.\n",
      "\n",
      "Action: sql_db_schema\n",
      "Action Input: titanic\u001b[0m\u001b[33;1m\u001b[1;3m\n",
      "CREATE TABLE titanic (\n",
      "\t\"Survived\" BIGINT, \n",
      "\t\"Pclass\" BIGINT, \n",
      "\t\"Name\" TEXT, \n",
      "\t\"Sex\" TEXT, \n",
      "\t\"Age\" FLOAT, \n",
      "\t\"Siblings/Spouses Aboard\" BIGINT, \n",
      "\t\"Parents/Children Aboard\" BIGINT, \n",
      "\t\"Fare\" FLOAT\n",
      ")\n",
      "\n",
      "/*\n",
      "3 rows from titanic table:\n",
      "Survived\tPclass\tName\tSex\tAge\tSiblings/Spouses Aboard\tParents/Children Aboard\tFare\n",
      "0\t3\tMr. Owen Harris Braund\tmale\t22.0\t1\t0\t7.25\n",
      "1\t1\tMrs. John Bradley (Florence Briggs Thayer) Cumings\tfemale\t38.0\t1\t0\t71.2833\n",
      "1\t3\tMiss. Laina Heikkinen\tfemale\t26.0\t0\t0\t7.925\n",
      "*/\u001b[0m\u001b[32;1m\u001b[1;3mThought: Now that I know the schema of the \"titanic\" table, I can write a query to count the total number of passengers. Since there is no specific column for passenger type (adult or child), I'll use the \"Age\" column to get all rows where Age is greater than 0 (assuming adults are at least 1 year old). I will also limit the results to 10 records.\n",
      "\n",
      "Action: sql_db_query\n",
      "Action Input: SELECT COUNT(*) FROM titanic WHERE Age > 0 LIMIT 10\u001b[0m\u001b[36;1m\u001b[1;3m[(887,)]\u001b[0m\u001b[32;1m\u001b[1;3mA new challenge!\n",
      "\n",
      "Question: how many passengers total\n",
      "...\n",
      "\n",
      "Action: Thought: I should look at the tables in the database to see what I can query. Then I should query the schema of the most relevant tables.\n",
      "\n",
      "Action: sql_db_list_tables\n",
      "Action Input: (empty string\u001b[0mThought: I should look at the tables in the database to see what I can query. Then I should query the schema of the most relevant tables.\n",
      "\n",
      "Action: sql_db_list_tables is not a valid tool, try one of [sql_db_query, sql_db_schema, sql_db_list_tables, sql_db_query_checker].\u001b[32;1m\u001b[1;3mIt looks like there's been a mistake! \n",
      "\n",
      "Let's start again from the beginning. I understand that we're trying to answer the question \"how many passengers total\". Based on the schema of the \"titanic\" table, it seems like the most relevant column for this question would be the number of rows in the table.\n",
      "\n",
      "So, let's check the schema:\n",
      "\n",
      "Action: sql_db_schema\n",
      "Action Input: titanic\u001b[0m\u001b[33;1m\u001b[1;3m\n",
      "CREATE TABLE titanic (\n",
      "\t\"Survived\" BIGINT, \n",
      "\t\"Pclass\" BIGINT, \n",
      "\t\"Name\" TEXT, \n",
      "\t\"Sex\" TEXT, \n",
      "\t\"Age\" FLOAT, \n",
      "\t\"Siblings/Spouses Aboard\" BIGINT, \n",
      "\t\"Parents/Children Aboard\" BIGINT, \n",
      "\t\"Fare\" FLOAT\n",
      ")\n",
      "\n",
      "/*\n",
      "3 rows from titanic table:\n",
      "Survived\tPclass\tName\tSex\tAge\tSiblings/Spouses Aboard\tParents/Children Aboard\tFare\n",
      "0\t3\tMr. Owen Harris Braund\tmale\t22.0\t1\t0\t7.25\n",
      "1\t1\tMrs. John Bradley (Florence Briggs Thayer) Cumings\tfemale\t38.0\t1\t0\t71.2833\n",
      "1\t3\tMiss. Laina Heikkinen\tfemale\t26.0\t0\t0\t7.925\n",
      "*/\u001b[0m\u001b[32;1m\u001b[1;3mLet's finish the answer!\n",
      "\n",
      "Action: sql_db_query\n",
      "Action Input: SELECT COUNT(*) FROM titanic\u001b[0m\u001b[36;1m\u001b[1;3m[(887,)]\u001b[0m\u001b[32;1m\u001b[1;3mI can see that I'm on the right track! \n",
      "\n",
      "Question: how many passengers total\n",
      "...\n",
      "\n",
      "Final Answer: The final answer is 887.\u001b[0m\n",
      "\n",
      "\u001b[1m> Finished chain.\u001b[0m\n"
     ]
    },
    {
     "data": {
      "text/plain": [
       "{'input': 'how many passengers total', 'output': 'The final answer is 887.'}"
      ]
     },
     "execution_count": 32,
     "metadata": {},
     "output_type": "execute_result"
    }
   ],
   "source": [
    "agent_executor.invoke({\"input\": \"how many passengers total\"})"
   ]
  },
  {
   "cell_type": "code",
   "execution_count": 22,
   "id": "bd0c081b-c2b4-4a3a-948f-d868e5b0e65e",
   "metadata": {},
   "outputs": [
    {
     "name": "stdout",
     "output_type": "stream",
     "text": [
      "\n",
      "\n",
      "\u001b[1m> Entering new SQL Agent Executor chain...\u001b[0m\n",
      "\u001b[32;1m\u001b[1;3m\n",
      "Invoking: `sql_db_list_tables` with `{}`\n",
      "responded:   Then I should check my query.  Then I should run my query.\n",
      "\n",
      "\n",
      "\n",
      "\u001b[0m\u001b[38;5;200m\u001b[1;3mtitanic\u001b[0m\u001b[32;1m\u001b[1;3m\n",
      "Invoking: `sql_db_schema` with `{'table_names': 'table1, table2, table3'}`\n",
      "responded:   Then I should check my query.  Then I should run my query.\n",
      "\n",
      "\n",
      "\n",
      "\u001b[0m\u001b[33;1m\u001b[1;3mError: table_names {'table2', 'table3', 'table1'} not found in database\u001b[0m\u001b[32;1m\u001b[1;3m\n",
      "Invoking: `sql_db_query_checker` with `{'query': 'SELECT COUNT(*) FROM table1 WHERE age BETWEEN 5 AND 15'}`\n",
      "responded:   Then I should check my query.  Then I should run my query.\n",
      "\n",
      "\n",
      "\n",
      "\u001b[0m\u001b[36;1m\u001b[1;3m```sql\n",
      "SELECT COUNT(*) FROM table1 WHERE age >= 5 AND age <= 15\n",
      "```\u001b[0m\u001b[32;1m\u001b[1;3m\n",
      "Invoking: `sql_db_query` with `{'query': 'SELECT COUNT(*) FROM table1 WHERE age BETWEEN 5 AND 15 LIMIT 10'}`\n",
      "responded:   Then I should check my query.  Then I should run my query.\n",
      "\n",
      "\n",
      "\n",
      "\u001b[0m\u001b[36;1m\u001b[1;3mError: (sqlite3.OperationalError) no such table: table1\n",
      "[SQL: SELECT COUNT(*) FROM table1 WHERE age BETWEEN 5 AND 15 LIMIT 10]\n",
      "(Background on this error at: https://sqlalche.me/e/20/e3q8)\u001b[0m\u001b[32;1m\u001b[1;3m\n",
      "Invoking: `sql_db_list_tables` with `{}`\n",
      "\n",
      "\n",
      "\u001b[0m\u001b[38;5;200m\u001b[1;3mtitanic\u001b[0m\u001b[32;1m\u001b[1;3m\n",
      "Invoking: `sql_db_schema` with `{'table_names': 'titanic'}`\n",
      "\n",
      "\n",
      "\u001b[0m\u001b[33;1m\u001b[1;3m\n",
      "CREATE TABLE titanic (\n",
      "\t\"Survived\" BIGINT, \n",
      "\t\"Pclass\" BIGINT, \n",
      "\t\"Name\" TEXT, \n",
      "\t\"Sex\" TEXT, \n",
      "\t\"Age\" FLOAT, \n",
      "\t\"Siblings/Spouses Aboard\" BIGINT, \n",
      "\t\"Parents/Children Aboard\" BIGINT, \n",
      "\t\"Fare\" FLOAT\n",
      ")\n",
      "\n",
      "/*\n",
      "3 rows from titanic table:\n",
      "Survived\tPclass\tName\tSex\tAge\tSiblings/Spouses Aboard\tParents/Children Aboard\tFare\n",
      "0\t3\tMr. Owen Harris Braund\tmale\t22.0\t1\t0\t7.25\n",
      "1\t1\tMrs. John Bradley (Florence Briggs Thayer) Cumings\tfemale\t38.0\t1\t0\t71.2833\n",
      "1\t3\tMiss. Laina Heikkinen\tfemale\t26.0\t0\t0\t7.925\n",
      "*/\u001b[0m\u001b[32;1m\u001b[1;3m\n",
      "Invoking: `sql_db_query_checker` with `{'query': 'SELECT COUNT(*) FROM titanic WHERE age BETWEEN 5 AND 15'}`\n",
      "\n",
      "\n",
      "\u001b[0m\u001b[36;1m\u001b[1;3m```sql\n",
      "SELECT COUNT(*) FROM titanic WHERE age >= 5 AND age <= 15\n",
      "```\u001b[0m\u001b[32;1m\u001b[1;3m\n",
      "Invoking: `sql_db_query` with `{'query': 'SELECT COUNT(*) FROM titanic WHERE age BETWEEN 5 AND 15 LIMIT 10'}`\n",
      "\n",
      "\n",
      "\u001b[0m\u001b[36;1m\u001b[1;3m[(51,)]\u001b[0m\u001b[32;1m\u001b[1;3mThere are 51 passengers between the ages of 5 and 15.\u001b[0m\n",
      "\n",
      "\u001b[1m> Finished chain.\u001b[0m\n"
     ]
    },
    {
     "data": {
      "text/plain": [
       "{'input': 'how many passengers between age 5 and 15',\n",
       " 'output': 'There are 51 passengers between the ages of 5 and 15.'}"
      ]
     },
     "execution_count": 22,
     "metadata": {},
     "output_type": "execute_result"
    }
   ],
   "source": [
    "agent_executor.invoke({\"input\": \"how many passengers between age 5 and 15\"})"
   ]
  },
  {
   "cell_type": "code",
   "execution_count": 25,
   "id": "00b7a1cf-a975-4893-9feb-673ebedd1212",
   "metadata": {
    "collapsed": true,
    "jupyter": {
     "outputs_hidden": true
    }
   },
   "outputs": [
    {
     "name": "stdout",
     "output_type": "stream",
     "text": [
      "\n",
      "\n",
      "\u001b[1m> Entering new SQL Agent Executor chain...\u001b[0m\n",
      "\u001b[32;1m\u001b[1;3m\n",
      "Invoking: `sql_db_list_tables` with `{'tool_input': ''}`\n",
      "responded:  \n",
      "\n",
      "\n",
      "\n",
      "\u001b[0m\u001b[38;5;200m\u001b[1;3mtitanic\u001b[0m\u001b[32;1m\u001b[1;3m\n",
      "Invoking: `sql_db_schema` with `{'table_names': 'titanic'}`\n",
      "\n",
      "\n",
      "\u001b[0m\u001b[33;1m\u001b[1;3m\n",
      "CREATE TABLE titanic (\n",
      "\t\"Survived\" BIGINT, \n",
      "\t\"Pclass\" BIGINT, \n",
      "\t\"Name\" TEXT, \n",
      "\t\"Sex\" TEXT, \n",
      "\t\"Age\" FLOAT, \n",
      "\t\"Siblings/Spouses Aboard\" BIGINT, \n",
      "\t\"Parents/Children Aboard\" BIGINT, \n",
      "\t\"Fare\" FLOAT\n",
      ")\n",
      "\n",
      "/*\n",
      "3 rows from titanic table:\n",
      "Survived\tPclass\tName\tSex\tAge\tSiblings/Spouses Aboard\tParents/Children Aboard\tFare\n",
      "0\t3\tMr. Owen Harris Braund\tmale\t22.0\t1\t0\t7.25\n",
      "1\t1\tMrs. John Bradley (Florence Briggs Thayer) Cumings\tfemale\t38.0\t1\t0\t71.2833\n",
      "1\t3\tMiss. Laina Heikkinen\tfemale\t26.0\t0\t0\t7.925\n",
      "*/\u001b[0m\u001b[32;1m\u001b[1;3m\n",
      "Invoking: `sql_db_query` with `{'query': 'SELECT * FROM titanic WHERE Age > 25'}`\n",
      "\n",
      "\n",
      "\u001b[0m\u001b[36;1m\u001b[1;3m[(1, 1, 'Mrs. John Bradley (Florence Briggs Thayer) Cumings', 'female', 38.0, 1, 0, 71.2833), (1, 3, 'Miss. Laina Heikkinen', 'female', 26.0, 0, 0, 7.925), (1, 1, 'Mrs. Jacques Heath (Lily May Peel) Futrelle', 'female', 35.0, 1, 0, 53.1), (0, 3, 'Mr. William Henry Allen', 'male', 35.0, 0, 0, 8.05), (0, 3, 'Mr. James Moran', 'male', 27.0, 0, 0, 8.4583), (0, 1, 'Mr. Timothy J McCarthy', 'male', 54.0, 0, 0, 51.8625), (1, 3, 'Mrs. Oscar W (Elisabeth Vilhelmina Berg) Johnson', 'female', 27.0, 0, 2, 11.1333), (1, 1, 'Miss. Elizabeth Bonnell', 'female', 58.0, 0, 0, 26.55), (0, 3, 'Mr. Anders Johan Andersson', 'male', 39.0, 1, 5, 31.275), (1, 2, 'Mrs. (Mary D Kingcome) Hewlett', 'female', 55.0, 0, 0, 16.0), (0, 3, 'Mrs. Julius (Emelia Maria Vandemoortele) Vander Planke', 'female', 31.0, 1, 0, 18.0), (0, 2, 'Mr. Joseph J Fynney', 'male', 35.0, 0, 0, 26.0), (1, 2, 'Mr. Lawrence Beesley', 'male', 34.0, 0, 0, 13.0), (1, 1, 'Mr. William Thompson Sloper', 'male', 28.0, 0, 0, 35.5), (1, 3, 'Mrs. Carl Oscar (Selma Augusta Emilia Johansson) Asplund', 'female', 38.0, 1, 5, 31.3875), (0, 3, 'Mr. Farred Chehab Emir', 'male', 26.0, 0, 0, 7.225), (0, 1, 'Don. Manuel E Uruchurtu', 'male', 40.0, 0, 0, 27.7208), (1, 1, 'Mrs. William Augustus (Marie Eugenie) Spencer', 'female', 48.0, 1, 0, 146.5208), (0, 2, 'Mr. Edward H Wheadon', 'male', 66.0, 0, 0, 10.5), (0, 1, 'Mr. Edgar Joseph Meyer', 'male', 28.0, 1, 0, 82.1708), (0, 1, 'Mr. Alexander Oskar Holverson', 'male', 42.0, 1, 0, 52.0), (0, 3, 'Mrs. Johan (Johanna Persdotter Larsson) Ahlin', 'female', 40.0, 1, 0, 9.475), (0, 2, 'Mrs. William John Robert (Dorothy Ann Wonnacott) Turpin', 'female', 27.0, 1, 0, 21.0), (0, 3, 'Mr. William John Rogers', 'male', 30.0, 0, 0, 8.05), (1, 3, \"Miss. Bridget O'Driscoll\", 'female', 27.0, 0, 0, 7.75), (1, 1, 'Mrs. Henry Sleeper (Myna Haxtun) Harper', 'female', 49.0, 1, 0, 76.7292), (1, 2, 'Mrs. Lizzie (Elizabeth Anne Wilkinson) Faunthorpe', 'female', 29.0, 1, 0, 26.0), (0, 1, 'Mr. Engelhart Cornelius Ostby', 'male', 65.0, 0, 1, 61.9792), (1, 1, 'Mr. Hugh Woolner', 'male', 46.0, 0, 0, 35.5), (0, 3, 'Mr. Mansouer Novel', 'male', 28.5, 0, 0, 7.2292), (1, 1, 'Miss. Amelie Icard', 'female', 38.0, 0, 0, 80.0), (0, 1, 'Mr. Henry Birkhardt Harris', 'male', 45.0, 1, 0, 83.475), (0, 1, 'Mr. Albert A Stewart', 'male', 64.0, 0, 0, 27.7208), (1, 2, 'Mrs. (Elizabeth Ramell) Nye', 'female', 29.0, 0, 0, 10.5), (0, 3, 'Mr. Vincenz Kink', 'male', 26.0, 2, 0, 8.6625), (0, 2, 'Mr. Stephen Curnow Jenkin', 'male', 32.0, 0, 0, 10.5), (0, 3, 'Mr. Apostolos Chronopoulos', 'male', 26.0, 1, 0, 14.4542), (1, 3, 'Mr. Lee Bing', 'male', 32.0, 0, 0, 56.4958), (0, 3, 'Mr. Rahamin Haim Moutal', 'male', 28.0, 0, 0, 8.05), (1, 3, 'Miss. Elizabeth Dowdell', 'female', 30.0, 0, 0, 12.475), (1, 3, 'Mr. Jan Baptist Sheerlinck', 'male', 29.0, 0, 0, 9.5), (1, 3, 'Miss. Brigdet Delia McDermott', 'female', 31.0, 0, 0, 7.7875), (0, 1, 'Mr. Francisco M Carrau', 'male', 28.0, 0, 0, 47.1), (1, 3, 'Mrs. Karl Alfred (Maria Mathilda Gustafsson) Backstrom', 'female', 33.0, 3, 0, 15.85), (0, 3, 'Mr. Emil Christmann', 'male', 29.0, 0, 0, 8.05), (0, 1, 'Mr. Herbert Fuller Chaffee', 'male', 46.0, 1, 0, 61.175), (0, 3, 'Mr. Bertram Frank Dean', 'male', 26.0, 1, 2, 20.575), (0, 3, 'Mr. Daniel Coxon', 'male', 59.0, 0, 0, 7.25), (0, 1, 'Mr. George B Goldschmidt', 'male', 71.0, 0, 0, 34.6542), (1, 2, 'Mrs. John T (Ada Julia Bone) Doling', 'female', 34.0, 0, 1, 23.0), (0, 2, 'Mr. Sinai Kantor', 'male', 34.0, 1, 0, 26.0), (0, 3, 'Miss. Matilda Petranec', 'female', 28.0, 0, 0, 7.8958), (0, 3, 'Mr. Pastcho Petroff', 'male', 29.0, 0, 0, 7.8958), (0, 3, 'Mr. Gustaf Joel Johansson', 'male', 33.0, 0, 0, 8.6542), (0, 3, 'Mr. Anders Vilhelm Gustafsson', 'male', 37.0, 2, 0, 7.925), (0, 3, 'Mr. Stoytcho Mionoff', 'male', 28.0, 0, 0, 7.8958), (1, 3, 'Mr. Albert Johan Moss', 'male', 29.0, 0, 0, 7.775), (0, 3, 'Mr. Tido Rekic', 'male', 38.0, 0, 0, 7.8958), (1, 3, 'Miss. Bertha Moran', 'female', 28.0, 1, 0, 24.15), (0, 1, 'Mr. Walter Chamberlain Porter', 'male', 47.0, 0, 0, 52.0), (0, 3, 'Mr. Patrick Connors', 'male', 70.5, 0, 0, 7.75), (0, 2, 'Mr. William John Robert Turpin', 'male', 29.0, 1, 0, 21.0), (0, 2, 'Mr. Nicholas Nasser', 'male', 32.5, 1, 0, 30.0708), (1, 2, 'Miss. Susan Webber', 'female', 32.5, 0, 0, 13.0), (0, 1, 'Mr. Percival Wayland White', 'male', 54.0, 0, 1, 77.2875), (0, 3, 'Mr. Johan Ekstrom', 'male', 45.0, 0, 0, 6.975), (0, 3, 'Mr. Jozef Drazenoic', 'male', 33.0, 0, 0, 7.8958), (0, 3, 'Mrs. Alexander A (Grace Charity Laury) Robins', 'female', 47.0, 1, 0, 14.5), (1, 2, 'Mrs. Leopold (Mathilde Francoise Pede) Weisz', 'female', 29.0, 1, 0, 26.0), (0, 1, 'Mr. Jacques Heath Futrelle', 'male', 37.0, 1, 0, 53.1), (0, 3, 'Mrs. Joseph (Sultana) Boulos', 'female', 40.0, 0, 2, 15.2458), (1, 3, 'Mr. August Edvard Andersson', 'male', 27.0, 0, 0, 7.7958), (0, 2, 'Mr. Michel Navratil', 'male', 36.5, 0, 2, 26.0), (0, 2, 'Rev. Thomas Roussel Davids Byles', 'male', 42.0, 0, 0, 13.0), (0, 2, 'Rev. Robert James Bateman', 'male', 51.0, 0, 0, 12.525), (0, 3, 'Mr. Alfonzo Meo', 'male', 55.5, 0, 0, 8.05), (0, 3, 'Mr. Austin Blyler van Billiard', 'male', 40.5, 0, 2, 14.5), (0, 3, 'Mr. Ole Martin Olsen', 'male', 27.0, 0, 0, 7.3125), (0, 1, 'Mr. Charles Duane Williams', 'male', 51.0, 0, 1, 61.3792), (0, 3, 'Mr. Harry Corn', 'male', 30.0, 0, 0, 8.05), (0, 3, 'Mr. Mile Smiljanic', 'male', 37.0, 0, 0, 8.6625), (0, 3, 'Mr. John Hatfield Cribb', 'male', 44.0, 0, 1, 16.1), (1, 2, 'Mrs. James (Elizabeth Inglis Milne) Watt', 'female', 40.0, 0, 0, 15.75), (0, 3, 'Mr. John Viktor Bengtsson', 'male', 26.0, 0, 0, 7.775), (1, 1, 'Mrs. (Edith Martha Bowerman) Chibnall', 'female', 48.0, 0, 1, 55.0), (0, 3, 'Mrs. William (Anna Bernhardina Karlsson) Skoog', 'female', 45.0, 1, 4, 27.9), (0, 1, 'Mr. John D Baumann', 'male', 60.0, 0, 0, 25.925), (0, 3, 'Mr. Lee Ling', 'male', 28.0, 0, 0, 56.4958), (0, 1, 'Mr. Wyckoff Van der hoef', 'male', 61.0, 0, 0, 33.5), (0, 1, 'Mr. James Clinch Smith', 'male', 56.0, 0, 0, 30.6958), (0, 1, 'Miss. Ann Elizabeth Isham', 'female', 50.0, 0, 0, 28.7125), (0, 2, 'Mr. Reginald Hale', 'male', 30.0, 0, 0, 13.0), (0, 3, 'Mr. Lionel Leonard', 'male', 36.0, 0, 0, 0.0), (0, 2, 'Mr. Rene Pernot', 'male', 39.0, 0, 0, 15.05), (0, 1, 'Mr. Hugh Roscoe Rood', 'male', 39.0, 0, 0, 50.0), (1, 3, \"Mrs. Thomas (Johanna Godfrey) O'Brien\", 'female', 26.0, 1, 0, 15.5), (1, 1, 'Mr. Charles Hallace Romaine', 'male', 45.0, 0, 0, 26.55), (0, 3, 'Mr. John Bourke', 'male', 40.0, 1, 1, 15.5), (0, 3, 'Mr. Stjepan Turcin', 'male', 36.0, 0, 0, 7.8958), (1, 2, 'Mrs. (Rosa) Pinsky', 'female', 32.0, 0, 0, 13.0), (1, 1, 'Mrs. James Joseph (Margaret Tobin) Brown', 'female', 44.0, 0, 0, 27.7208), (1, 1, 'Miss. Elise Lurette', 'female', 58.0, 0, 0, 146.5208), (0, 3, 'Mr. Robert Mernagh', 'male', 28.0, 0, 0, 7.75), (0, 3, 'Mr. Karl Siegwart Andreas Olsen', 'male', 42.0, 0, 1, 8.4042), (0, 3, 'Mr. Nestor Cyriel Vande Walle', 'male', 28.0, 0, 0, 9.5), (0, 3, 'Mr. Jakob Alfred Johanson', 'male', 34.0, 0, 0, 6.4958), (0, 3, 'Mr. Gerious Youseff', 'male', 45.5, 0, 0, 7.225), (0, 3, 'Mr. Karl Alfred Backstrom', 'male', 32.0, 1, 0, 15.85), (1, 3, 'Mr. Nassef Cassem Albimona', 'male', 26.0, 0, 0, 18.7875), (1, 1, 'Mr. Henry Blank', 'male', 40.0, 0, 0, 31.0), (1, 2, 'Miss. Clear Annie Cameron', 'female', 35.0, 0, 0, 21.0), (0, 2, 'Mr. Hans Kristensen Givard', 'male', 30.0, 0, 0, 13.0), (1, 1, 'Miss. Madeleine Newell', 'female', 31.0, 1, 0, 113.275), (1, 3, 'Miss. Eliina Honkanen', 'female', 27.0, 0, 0, 7.925), (0, 2, 'Mr. Sidney Samuel Jacobsohn', 'male', 42.0, 1, 0, 27.0), (1, 1, 'Miss. Albina Bazzani', 'female', 32.0, 0, 0, 76.2917), (0, 2, 'Mr. Walter Harris', 'male', 30.0, 0, 0, 10.5), (0, 2, 'Mr. James H Bracken', 'male', 27.0, 0, 0, 13.0), (0, 3, 'Mr. George Henry Green', 'male', 51.0, 0, 0, 8.05), (1, 1, 'Mr. Frederick Maxfield Hoyt', 'male', 38.0, 1, 0, 90.0), (1, 1, 'Mrs. Henry Birkhardt (Irene Wallach) Harris', 'female', 35.0, 1, 0, 83.475), (0, 3, 'Mr. Bengt Edvin Larsson', 'male', 29.0, 0, 0, 7.775), (0, 2, 'Mr. Ernst Adolf Sjostedt', 'male', 59.0, 0, 0, 13.5), (0, 2, 'Mr. Stephen Hold', 'male', 44.0, 1, 0, 26.0), (0, 2, 'Mr. George Henry Hunt', 'male', 33.0, 0, 0, 12.275), (0, 2, 'Mr. Reginald Charles Coleridge', 'male', 29.0, 0, 0, 10.5), (0, 3, 'Mr. Sleiman Attalah', 'male', 30.0, 0, 0, 7.225), (0, 1, 'Dr. William Edward Minahan', 'male', 44.0, 2, 0, 90.0), (1, 1, 'Mr. Richard Leonard Beckwith', 'male', 37.0, 1, 1, 52.5542), (0, 2, 'Rev. Ernest Courtenay Carter', 'male', 54.0, 1, 0, 26.0), (0, 3, 'Mrs. Wilhelm (Elna Matilda Persson) Strom', 'female', 29.0, 1, 1, 10.4625), (0, 1, 'Mr. William Thomas Stead', 'male', 62.0, 0, 0, 26.55), (0, 3, 'Mr. William Arthur Lobb', 'male', 30.0, 1, 0, 16.1), (0, 3, 'Mrs. Viktor (Helena Wilhelmina) Rosblom', 'female', 41.0, 0, 2, 20.2125), (1, 3, 'Mrs. Darwis (Hanne Youssef Razi) Touma', 'female', 29.0, 0, 2, 15.2458), (1, 1, 'Mrs. Gertrude Maybelle Thorne', 'female', 38.0, 0, 0, 79.2), (1, 1, 'Miss. Gladys Cherry', 'female', 30.0, 0, 0, 86.5), (1, 1, 'Miss. Anna Ward', 'female', 35.0, 0, 0, 512.3292), (1, 2, 'Mrs. (Lutie Davis) Parrish', 'female', 50.0, 0, 1, 26.0), (0, 1, 'Mr. Emil Taussig', 'male', 52.0, 1, 1, 79.65), (0, 1, 'Mr. William Harrison', 'male', 40.0, 0, 0, 0.0), (0, 2, 'Mr. David Reeves', 'male', 36.0, 0, 0, 10.5), (1, 1, 'Mrs. William Thompson (Edith Junkins) Graham', 'female', 58.0, 0, 1, 153.4625), (1, 1, 'Miss. Amelia Bissette', 'female', 35.0, 0, 0, 135.6333), (0, 1, 'Mr. Alexander Cairns', 'male', 28.0, 0, 0, 31.0), (1, 2, 'Mrs. (Elizabeth Anne Maidment) Mellinger', 'female', 41.0, 0, 1, 19.5), (0, 1, 'Mr. Charles H Natsch', 'male', 37.0, 0, 1, 29.7), (1, 3, 'Miss. Hanora Healy', 'female', 33.0, 0, 0, 7.75), (1, 1, 'Miss. Kornelia Theodosia Andrews', 'female', 63.0, 1, 0, 77.9583), (0, 3, 'Miss. Augusta Charlotta Lindblom', 'female', 45.0, 0, 0, 7.75), (1, 3, 'Mrs. Stanton (Rosa Hunt) Abbott', 'female', 35.0, 1, 1, 20.25), (0, 3, 'Mr. Frank Duane', 'male', 65.0, 0, 0, 7.75), (0, 3, 'Mr. Nils Johan Goransson Olsson', 'male', 28.0, 0, 0, 7.8542), (0, 1, 'Mr. Richard William Smith', 'male', 57.0, 0, 0, 26.0), (0, 3, 'Mr. Ivan Stankovic', 'male', 33.0, 0, 0, 8.6625), (1, 3, 'Mr. Theodore de Mulder', 'male', 30.0, 0, 0, 9.5), (1, 2, 'Mr. Masabumi Hosono', 'male', 42.0, 0, 0, 13.0), (1, 1, 'Miss. Ellen Barber', 'female', 26.0, 0, 0, 78.85), (0, 2, 'Mr. Rene Jacques Levy', 'male', 36.0, 0, 0, 12.875), (0, 1, 'Mr. Ervin G Lewy', 'male', 30.0, 0, 0, 27.7208), (1, 1, 'Mr. Adolphe Saalfeld', 'male', 47.0, 0, 0, 30.5), (1, 1, 'Mrs. James (Helene DeLaudeniere Chaput) Baxter', 'female', 50.0, 0, 1, 247.5208), (1, 2, 'Miss. Nora A Keane', 'female', 46.0, 0, 0, 12.35), (0, 3, 'Mr. Howard Hugh Williams', 'male', 28.0, 0, 0, 8.05), (1, 1, 'Miss. Margaret Fleming', 'female', 42.0, 0, 0, 110.8833), (0, 2, 'Mr. Samuel Abelson', 'male', 30.0, 1, 0, 24.0), (1, 1, 'Miss. Laura Mabel Francatelli', 'female', 30.0, 0, 0, 56.9292), (0, 2, 'Mrs. William (Anna Sylfven) Lahtinen', 'female', 26.0, 1, 1, 26.0), (0, 3, 'Mr. Ignjac Hendekovic', 'male', 28.0, 0, 0, 7.8958), (0, 2, 'Mr. Benjamin Hart', 'male', 43.0, 1, 1, 26.25), (1, 3, 'Miss. Helmina Josefina Nilsson', 'female', 26.0, 0, 0, 7.8542), (0, 2, 'Dr. Ernest Moraweck', 'male', 54.0, 0, 0, 14.0), (1, 1, 'Miss. Mary Natalie Wick', 'female', 31.0, 0, 2, 164.8667), (1, 1, 'Mrs. Frederic Oakley (Margaretta Corning Stone) Spedden', 'female', 40.0, 1, 1, 134.5), (0, 3, 'Mr. Yoto Danoff', 'male', 27.0, 0, 0, 7.8958), (1, 2, 'Miss. Hilda Mary Slayter', 'female', 30.0, 0, 0, 12.35), (1, 1, 'Miss. Marie Grice Young', 'female', 36.0, 0, 0, 135.6333), (0, 3, 'Mr. Johan Hansen Nysveen', 'male', 61.0, 0, 0, 6.2375), (1, 2, 'Mrs. (Ada E Hall) Ball', 'female', 36.0, 0, 0, 13.0), (1, 3, 'Mrs. Frank John (Emily Alice Brown) Goldsmith', 'female', 31.0, 1, 1, 20.525), (1, 3, 'Miss. Agnes McCoy', 'female', 28.0, 2, 0, 23.25), (0, 1, 'Mr. Austen Partner', 'male', 45.5, 0, 0, 28.5), (0, 1, 'Mr. George Edward Graham', 'male', 38.0, 0, 1, 153.4625), (1, 1, 'Mrs. Henry William (Clara Heinsheimer) Frauenthal', 'female', 42.0, 1, 0, 133.65), (0, 3, 'Mr. Mitto Denkoff', 'male', 30.0, 0, 0, 7.8958), (0, 1, 'Mr. Thomas Clinton Pears', 'male', 29.0, 1, 0, 66.6), (1, 1, 'Miss. Elizabeth Margaret Burns', 'female', 41.0, 0, 0, 134.5), (1, 3, 'Mr. Karl Edwart Dahl', 'male', 45.0, 0, 0, 8.05), (0, 1, 'Mr. Stephen Weart Blackwell', 'male', 45.0, 0, 0, 35.5), (0, 2, 'Mr. Erik Gustaf Collander', 'male', 28.0, 0, 0, 13.0), (0, 2, 'Mr. Stanley Hubert Fox', 'male', 36.0, 0, 0, 13.0), (1, 2, 'Miss. Marion Elsie Smith', 'female', 40.0, 0, 0, 13.0), (1, 3, 'Mrs. Thomas Henry (Mary E Finck) Davison', 'female', 34.0, 1, 0, 16.1), (0, 3, 'Mr. Jovan Dimic', 'male', 42.0, 0, 0, 8.6625), (0, 1, 'Mr. Fletcher Fellows Williams-Lambert', 'male', 43.0, 0, 0, 35.0), (0, 3, 'Mr. Leo Peter Vanden Steen', 'male', 28.0, 0, 0, 9.5), (0, 2, 'Miss. Annie Clemmer Funk', 'female', 38.0, 0, 0, 13.0), (0, 3, 'Mr. Wilhelm Skoog', 'male', 40.0, 1, 4, 27.9), (0, 2, 'Mr. Sebastiano del Carlo', 'male', 29.0, 1, 0, 27.7208), (0, 3, 'Mrs. (Catherine David) Barbara', 'female', 45.0, 0, 1, 14.4542), (0, 3, 'Mr. Adola Asim', 'male', 35.0, 0, 0, 7.05), (0, 3, \"Mr. Thomas O'Brien\", 'male', 27.0, 1, 0, 15.5), (0, 3, 'Mr. Mauritz Nils Martin Adahl', 'male', 30.0, 0, 0, 7.25), (1, 1, 'Mrs. Frank Manley (Anna Sophia Atkinson) Warren', 'female', 60.0, 1, 0, 75.25), (1, 3, 'Mrs. (Mantoura Boulos) Moussa', 'female', 35.0, 0, 0, 7.2292), (0, 1, 'Mr. Harry Elkins Widener', 'male', 27.0, 0, 2, 211.5), (1, 1, 'Miss. Rosalie Bidois', 'female', 42.0, 0, 0, 227.525), (0, 3, 'Mr. Juho Tikkanen', 'male', 32.0, 0, 0, 7.925), (1, 1, 'Mrs. Alexander Oskar (Mary Aline Towner) Holverson', 'female', 35.0, 1, 0, 52.0), (0, 3, 'Mr. Vasil Plotcharsky', 'male', 27.0, 0, 0, 7.8958), (1, 2, 'Miss. Kate Buss', 'female', 36.0, 0, 0, 13.0), (1, 1, 'Mr. William Ernest Carter', 'male', 36.0, 1, 2, 120.0), (0, 3, 'Mr. Johan Birger Gustafsson', 'male', 28.0, 2, 0, 7.925), (0, 3, 'Miss. Elina Olsson', 'female', 31.0, 0, 0, 7.8542), (0, 2, 'Mr. Peter David McKane', 'male', 46.0, 0, 0, 26.0), (1, 2, 'Mrs. William H (Jessie L) Trout', 'female', 28.0, 0, 0, 12.65), (1, 3, 'Mr. Juha Niskanen', 'male', 39.0, 0, 0, 7.925), (0, 3, 'Mr. John Adams', 'male', 26.0, 0, 0, 8.05), (0, 3, 'Mr. Pekka Pietari Hakkarainen', 'male', 28.0, 1, 0, 15.85), (0, 2, 'Mr. Shadrach Gale', 'male', 34.0, 1, 0, 21.0), (0, 3, 'Mr. Carl/Charles Peter Widegren', 'male', 51.0, 0, 0, 7.75), (0, 3, 'Mr. Todor Sdycoff', 'male', 42.0, 0, 0, 7.8958), (0, 3, 'Mr. Henry Hart', 'male', 27.0, 0, 0, 6.8583), (1, 1, 'Miss. Daisy E Minahan', 'female', 33.0, 1, 0, 90.0), (1, 3, 'Mr. Johan Julian Sundman', 'male', 44.0, 0, 0, 7.925), (0, 3, 'Mrs. Thomas (Annie Louise Rowley) Meek', 'female', 32.0, 0, 0, 8.05), (1, 2, 'Mrs. James Vivian (Lulu Thorne Christian) Drew', 'female', 34.0, 1, 1, 32.5), (0, 2, 'Mr. William John Matthews', 'male', 30.0, 0, 0, 13.0), (0, 3, 'Mr. Leo Zimmerman', 'male', 29.0, 0, 0, 7.875), (0, 3, 'Mrs. Ernst Gilbert (Anna Sigrid Maria Brogren) Danbom', 'female', 28.0, 1, 1, 14.4), (0, 3, 'Mr. Phillippe Wiseman', 'male', 54.0, 0, 0, 7.25), (1, 2, 'Mrs. Charles V (Ada Maria Winfield) Clarke', 'female', 28.0, 1, 0, 26.0), (0, 3, 'Mr. James Flynn', 'male', 28.0, 0, 0, 7.75), (1, 3, 'Mr. Berk (Berk Trembisky) Pickard', 'male', 32.0, 0, 0, 8.05), (1, 1, 'Mr. Mauritz Hakan Bjornstrom-Steffansson', 'male', 28.0, 0, 0, 26.55), (1, 3, 'Mrs. Percival (Florence Kate White) Thorneycroft', 'female', 33.0, 1, 0, 16.1), (1, 2, 'Mrs. Charles Alexander (Alice Adelaide Slow) Louch', 'female', 42.0, 1, 0, 26.0), (0, 1, 'Mr. William Baird Silvey', 'male', 50.0, 1, 0, 55.9), (0, 1, 'Mr. Mark Fortune', 'male', 64.0, 1, 4, 263.0), (0, 2, 'Mr. Johan Henrik Johannesson Kvillner', 'male', 31.0, 0, 0, 10.5), (1, 2, 'Mrs. Benjamin (Esther Ada Bloomfield) Hart', 'female', 45.0, 1, 1, 26.25), (1, 2, 'Ms. Encarnacion Reynaldo', 'female', 28.0, 0, 0, 13.0), (1, 3, 'Mr. Bernt Johannesen-Bratthammer', 'male', 29.0, 0, 0, 8.1125), (1, 1, 'Mr. Frederic Kimber Seward', 'male', 34.0, 0, 0, 26.55), (1, 1, 'Major. Arthur Godfrey Peuchen', 'male', 52.0, 0, 0, 30.5), (0, 2, 'Mr. Edwy Arthur West', 'male', 36.0, 1, 2, 27.75), (0, 3, 'Mr. Ingvald Olai Olsen Hagland', 'male', 28.0, 1, 0, 19.9667), (0, 1, 'Mr. Benjamin Laventall Foreman', 'male', 30.0, 0, 0, 27.75), (1, 1, 'Mr. Samuel L Goldenberg', 'male', 49.0, 1, 0, 89.1042), (1, 3, 'Mr. Ivan Jalsevac', 'male', 29.0, 0, 0, 7.8958), (0, 1, 'Mr. Francis Davis Millet', 'male', 65.0, 0, 0, 26.55), (1, 1, 'Mrs. Frederick R (Marion) Kenyon', 'female', 41.0, 1, 0, 51.8625), (1, 2, 'Miss. Ellen Toomey', 'female', 50.0, 0, 0, 10.5), (1, 1, 'Mr. Harry Anderson', 'male', 48.0, 0, 0, 26.55), (0, 3, 'Mr. William Morley', 'male', 34.0, 0, 0, 8.05), (0, 1, 'Mr. Arthur H Gee', 'male', 47.0, 0, 0, 38.5), (0, 2, 'Mr. Jacob Christian Milling', 'male', 48.0, 0, 0, 13.0), (0, 3, 'Mr. Simon Maisner', 'male', 34.0, 0, 0, 8.05), (0, 3, 'Mr. Manuel Estanslas Goncalves', 'male', 38.0, 0, 0, 7.05), (0, 1, 'Mr. John Montgomery Smart', 'male', 56.0, 0, 0, 26.55), (0, 3, 'Mr. Arthur Keefe', 'male', 39.0, 0, 0, 7.25), (0, 3, 'Mr. Luka Cacic', 'male', 38.0, 0, 0, 8.6625), (1, 2, 'Mrs. Edwy Arthur (Ada Mary Worth) West', 'female', 33.0, 1, 2, 27.75), (0, 1, 'Mr. George Quincy Clifford', 'male', 40.0, 0, 0, 52.0), (0, 2, 'Mr. Peter Henry Renouf', 'male', 34.0, 1, 0, 21.0), (0, 3, 'Mr. Lewis Richard Braund', 'male', 29.0, 1, 0, 7.0458), (0, 2, 'Mr. Anthony Wood Frost', 'male', 37.0, 0, 0, 0.0), (0, 3, 'Mr. Richard Henry Rouse', 'male', 50.0, 0, 0, 8.05), (1, 3, 'Mrs. (Hedwig) Turkula', 'female', 63.0, 0, 0, 9.5875), (1, 1, 'Mrs. Frederick Maxfield (Jane Anne Forby) Hoyt', 'female', 35.0, 1, 0, 90.0), (0, 1, 'Mr. Edward Austin Kent', 'male', 58.0, 0, 0, 29.7), (0, 3, 'Mr. Francis William Somerton', 'male', 30.0, 0, 0, 8.05), (0, 1, 'Mr. Harry Markland Molson', 'male', 55.0, 0, 0, 30.5), (0, 1, 'Mr. Ramon Artagaveytia', 'male', 71.0, 0, 0, 49.5042), (0, 3, 'Mr. Gerious Yousseff', 'male', 26.0, 0, 0, 14.4583), (1, 1, 'Miss. Elizabeth Mussey Eustis', 'female', 54.0, 1, 0, 78.2667), (0, 3, 'Mr. Frederick William Shellard', 'male', 55.0, 0, 0, 15.1), (0, 3, 'Miss. Kristina Sofia Laitinen', 'female', 37.0, 0, 0, 9.5875), (1, 2, 'Mrs. Frederick Charles (Jane Richards) Quick', 'female', 33.0, 0, 2, 26.0), (1, 1, 'Mr. George Bradley', 'male', 37.0, 0, 0, 26.55), (0, 3, 'Mr. Henry Margido Olsen', 'male', 28.0, 0, 0, 22.525), (1, 3, 'Mr. Fang Lang', 'male', 26.0, 0, 0, 56.4958), (1, 3, 'Mr. Eugene Patrick Daly', 'male', 29.0, 0, 0, 7.75), (0, 3, 'Mr. James Webber', 'male', 66.0, 0, 0, 8.05), (1, 1, 'Mr. James Robert McGough', 'male', 36.0, 0, 0, 26.2875), (1, 1, 'Mrs. Martin (Elizabeth L. Barrett) Rothschild', 'female', 54.0, 1, 0, 59.4), (0, 1, 'Mr. William Anderson Walker', 'male', 47.0, 0, 0, 34.0208), (1, 2, 'Mrs. (Amelia Milley) Lemore', 'female', 34.0, 0, 0, 10.5), (0, 3, 'Mr. Patrick Ryan', 'male', 30.0, 0, 0, 24.15), (1, 2, 'Mrs. William A (Florence Agnes Hughes) Angle', 'female', 36.0, 1, 0, 26.0), (0, 3, 'Mr. Stefo Pavlovic', 'male', 32.0, 0, 0, 7.8958), (1, 1, 'Miss. Anne Perreault', 'female', 30.0, 0, 0, 93.5), (0, 3, 'Mr. Sarkis Lahoud', 'male', 35.0, 0, 0, 7.225), (1, 1, 'Mrs. Louis Albert (Ida Sophia Fischer) Hippach', 'female', 44.0, 0, 1, 57.9792), (0, 3, 'Mr. James Farrell', 'male', 40.5, 0, 0, 7.75), (1, 2, 'Miss. Lucy Ridsdale', 'female', 50.0, 0, 0, 10.5), (0, 1, 'Mr. John Farthing', 'male', 49.0, 0, 0, 221.7792), (0, 3, 'Mr. Johan Werner Salonen', 'male', 39.0, 0, 0, 7.925), (0, 3, 'Miss. Marija Cacic', 'female', 30.0, 0, 0, 8.6625), (0, 1, 'Major. Archibald Willingham Butt', 'male', 45.0, 0, 0, 26.55), (1, 1, 'Miss. Bertha LeRoy', 'female', 30.0, 0, 0, 106.425), (0, 3, 'Mr. Samuel Beard Risien', 'male', 69.0, 0, 0, 14.5), (1, 1, 'Miss. Harriet R Crosby', 'female', 36.0, 0, 2, 71.0), (1, 2, 'Mr. Edward Beane', 'male', 32.0, 1, 0, 26.0), (0, 1, 'Mr. Walter Donald Douglas', 'male', 50.0, 1, 0, 106.425), (0, 1, 'Mr. Arthur Ernest Nicholson', 'male', 64.0, 0, 0, 26.0), (1, 2, 'Mr. Julian Padro y Manent', 'male', 27.0, 0, 0, 13.8625), (0, 3, 'Mr. Frank John Goldsmith', 'male', 33.0, 1, 1, 20.525), (0, 2, 'Mr. Percival James R Sharp', 'male', 27.0, 0, 0, 26.0), (0, 1, 'Mr. George Wright', 'male', 62.0, 0, 0, 26.55), (1, 1, 'Lady. (Lucille Christiana Sutherland)Duff Gordon', 'female', 48.0, 1, 0, 39.6), (0, 1, 'Mr. Victor Robbins', 'male', 45.0, 0, 0, 227.525), (1, 1, 'Mrs. Emil (Tillie Mandelbaum) Taussig', 'female', 39.0, 1, 1, 79.65), (1, 3, 'Mrs. Guillaume Joseph (Emma) de Messemaeker', 'female', 36.0, 1, 0, 17.4), (0, 3, 'Mr. Thomas Rowan Morrow', 'male', 30.0, 0, 0, 7.75), (0, 3, 'Mr. Husein Sivic', 'male', 40.0, 0, 0, 7.8958), (0, 2, 'Mr. Robert Douglas Norman', 'male', 28.0, 0, 0, 13.5), (0, 3, 'Mr. John Simmons', 'male', 40.0, 0, 0, 8.05), (0, 3, 'Miss. (Marion Ogden) Meanwell', 'female', 62.0, 0, 0, 8.05), (0, 3, 'Mrs. Nils (Alma Cornelia Berglund) Palsson', 'female', 29.0, 0, 4, 21.075), (0, 3, 'Mr. Tannous Doharr', 'male', 28.0, 0, 0, 7.2292), (1, 3, 'Mr. Carl Jonsson', 'male', 32.0, 0, 0, 7.8542), (1, 2, 'Mr. George Harris', 'male', 62.0, 0, 0, 10.5), (1, 1, 'Mrs. Edward Dale (Charlotte Lamson) Appleton', 'female', 53.0, 2, 0, 51.4792), (1, 1, 'Mr. John Irwin Flynn', 'male', 36.0, 0, 0, 26.3875), (1, 2, 'Miss. Ethel Garside', 'female', 34.0, 0, 0, 13.0), (1, 1, 'Mrs. William Baird (Alice Munger) Silvey', 'female', 39.0, 1, 0, 55.9), (1, 3, 'Mr. Eiriik Jussila', 'male', 32.0, 0, 0, 7.925), (1, 1, 'Mrs. John Borland (Marian Longstreth Morris) Thayer', 'female', 39.0, 1, 1, 110.8833), (0, 2, 'Mr. William James Downton', 'male', 54.0, 0, 0, 26.0), (0, 1, 'Mr. John Hugo Ross', 'male', 36.0, 0, 0, 40.125), (0, 2, 'Mr. John Denzil Jarvis', 'male', 47.0, 0, 0, 15.0), (1, 1, 'Mr. Maxmillian Frolicher-Stehli', 'male', 60.0, 1, 1, 79.2), (0, 3, 'Mr. Matti Rintamaki', 'male', 35.0, 0, 0, 7.125), (1, 1, 'Mrs. Walter Bertram (Martha Eustis) Stephenson', 'female', 52.0, 1, 0, 78.2667), (0, 3, 'Mr. William James Elsbury', 'male', 47.0, 0, 0, 7.25), (0, 3, 'Miss. Mary Bourke', 'female', 40.0, 0, 2, 7.75), (0, 2, 'Mr. John Henry Chapman', 'male', 37.0, 1, 0, 26.0), (0, 3, 'Mr. Jean Baptiste Van Impe', 'male', 36.0, 1, 1, 24.15), (1, 2, 'Miss. Jessie Wills Leitch', 'female', 31.0, 0, 0, 33.0), (0, 3, 'Mr. Alfred Johnson', 'male', 49.0, 0, 0, 0.0), (1, 1, 'Sir. Cosmo Edmund Duff Gordon', 'male', 49.0, 1, 0, 56.9292), (0, 3, 'Mr. Petco Slabenoff', 'male', 42.0, 0, 0, 7.8958), (0, 1, 'Mr. Charles H Harrington', 'male', 37.0, 0, 0, 42.4), (0, 3, 'Mr. Ernst William Torber', 'male', 44.0, 0, 0, 8.05), (1, 1, 'Mr. Harry Homer', 'male', 35.0, 0, 0, 26.55), (0, 3, 'Mr. Edvard Bengtsson Lindell', 'male', 36.0, 1, 0, 15.55), (0, 3, 'Mr. Milan Karaic', 'male', 30.0, 0, 0, 7.8958), (1, 1, 'Mr. Robert Williams Daniel', 'male', 27.0, 0, 0, 30.5), (1, 1, 'Miss. Elizabeth W Shutes', 'female', 40.0, 0, 0, 153.4625), (0, 3, 'Mrs. Anders Johan (Alfrida Konstantia Brogren) Andersson', 'female', 39.0, 1, 5, 31.275), (0, 3, 'Mr. William Alfred Brocklebank', 'male', 35.0, 0, 0, 8.05), (0, 3, 'Mr. Ernst Gilbert Danbom', 'male', 34.0, 1, 1, 14.4), (0, 3, 'Mrs. William Arthur (Cordelia K Stanlick) Lobb', 'female', 26.0, 1, 0, 16.1), (0, 2, 'Mr. Lawrence Gavey', 'male', 26.0, 0, 0, 10.5), (0, 3, 'Mr. Antoni Yasbeck', 'male', 27.0, 1, 0, 14.4542), (1, 1, 'Mr. Edwin Nelson Jr Kimball', 'male', 42.0, 1, 0, 52.5542), (0, 1, 'Mr. Frederick Sutton', 'male', 61.0, 0, 0, 32.3208), (0, 2, 'Rev. Charles Leonard Kirkland', 'male', 57.0, 0, 0, 12.35), (0, 3, 'Mr. Guentcho Bostandyeff', 'male', 26.0, 0, 0, 7.8958), (1, 1, 'Mr. Algernon Henry Wilson Barkworth', 'male', 80.0, 0, 0, 30.0), (0, 3, 'Mr. Johan Svensson Lundahl', 'male', 51.0, 0, 0, 7.0542), (1, 1, 'Dr. Max Stahelin-Maeglin', 'male', 32.0, 0, 0, 30.5), (0, 1, 'Mr. William Henry Marsh Parr', 'male', 30.0, 0, 0, 0.0), (1, 2, 'Miss. Mary Davis', 'female', 28.0, 0, 0, 13.0), (0, 3, 'Mr. Antti Gustaf Leinonen', 'male', 32.0, 0, 0, 7.925), (0, 2, 'Mr. Harvey Collyer', 'male', 31.0, 1, 1, 26.25), (0, 3, 'Mrs. Juha (Maria Emilia Ojala) Panula', 'female', 41.0, 0, 5, 39.6875), (0, 3, 'Mr. Percival Thorneycroft', 'male', 37.0, 1, 0, 16.1), (1, 3, 'Mr. Choong Foo', 'male', 32.0, 0, 0, 56.4958), (1, 1, 'Mr. Henry Sleeper Harper', 'male', 48.0, 1, 0, 76.7292), (1, 1, 'Col. Oberst Alfons Simonius-Blumer', 'male', 56.0, 0, 0, 35.5), (0, 3, 'Mr. Alexander Radeff', 'male', 27.0, 0, 0, 7.8958), (0, 3, 'Mrs. John (Catherine) Bourke', 'female', 32.0, 1, 1, 15.5), (0, 1, 'Mr. Arthur Webster Newell', 'male', 58.0, 0, 2, 113.275), (1, 1, 'Dr. Henry William Frauenthal', 'male', 50.0, 2, 0, 133.65), (0, 3, 'Mr. Mohamed Badt', 'male', 40.0, 0, 0, 7.225), (0, 1, 'Mr. Edward Pomeroy Colley', 'male', 47.0, 0, 0, 25.5875), (0, 3, 'Mr. Peju Coleff', 'male', 36.0, 0, 0, 7.4958), (0, 2, 'Mr. Lewis Hickman', 'male', 32.0, 2, 0, 73.5), (0, 3, 'Mr. Knud Paust Rommetvedt', 'male', 49.0, 0, 0, 7.775), (0, 3, 'Mr. Jacob Cook', 'male', 43.0, 0, 0, 8.05), (1, 1, 'Mrs. Elmer Zebley (Juliet Cummins Wright) Taylor', 'female', 48.0, 1, 0, 52.0), (1, 2, 'Mrs. Thomas William Solomon (Elizabeth Catherine Ford) Brown', 'female', 40.0, 1, 1, 39.0), (0, 1, 'Mr. Thornton Davidson', 'male', 31.0, 1, 0, 52.0), (0, 2, 'Mr. Henry Michael Mitchell', 'male', 70.0, 0, 0, 10.5), (1, 2, 'Mr. Charles Wilhelms', 'male', 31.0, 0, 0, 13.0), (0, 3, 'Mrs. Frederick (Augusta Tyler) Goodwin', 'female', 43.0, 1, 6, 46.9), (1, 1, 'Mr. Thomas Drake Martinez Cardeza', 'male', 36.0, 0, 1, 512.3292), (0, 3, 'Miss. Katie Peters', 'female', 28.0, 0, 0, 8.1375), (1, 1, 'Mr. Hammad Hassab', 'male', 27.0, 0, 0, 76.7292), (0, 2, 'Mr. Thomas William Solomon Brown', 'male', 60.0, 1, 1, 39.0), (1, 1, 'Mr. Albert Adrian Dick', 'male', 31.0, 1, 0, 57.0), (1, 3, 'Mr. Ali Lam', 'male', 37.0, 0, 0, 56.4958), (0, 1, 'Col. John Weir', 'male', 60.0, 0, 0, 26.55), (0, 2, 'Mr. Charles Henry Chapman', 'male', 52.0, 0, 0, 13.5), (0, 3, 'Mr. James Kelly', 'male', 44.0, 0, 0, 8.05), (0, 1, 'Mr. John Borland Thayer', 'male', 49.0, 1, 1, 110.8833), (0, 3, 'Mr. Adolf Mathias Nicolai Olsen Humblen', 'male', 42.0, 0, 0, 7.65), (1, 1, 'Mr. Spencer Victor Silverthorne', 'male', 35.0, 0, 0, 26.2875), (0, 3, 'Mr. Henrik Juul Hansen', 'male', 26.0, 1, 0, 7.8542), (0, 2, 'Mr. Henry Samuel Morley', 'male', 39.0, 0, 0, 26.0), (1, 2, 'Mrs. Florence Kelly', 'female', 45.0, 0, 0, 13.5), (1, 1, 'Mr. Edward Pennington Calderhead', 'male', 42.0, 0, 0, 26.2875), (0, 1, 'Mr. Herman Klaber', 'male', 41.0, 0, 0, 26.55), (1, 1, 'Mr. Elmer Zebley Taylor', 'male', 48.0, 1, 0, 52.0), (0, 3, 'Mr. August Viktor Larsson', 'male', 29.0, 0, 0, 9.4833), (0, 2, 'Mr. Samuel Greenberg', 'male', 52.0, 0, 0, 13.0), (1, 1, 'Miss. Caroline Louise Endres', 'female', 38.0, 0, 0, 227.525), (1, 2, 'Miss. Edwina Celia Troutt', 'female', 27.0, 0, 0, 10.5), (0, 3, 'Mr. Malkolm Joackim Johnson', 'male', 33.0, 0, 0, 7.775), (0, 2, 'Mr. William Henry Gillespie', 'male', 34.0, 0, 0, 13.0), (0, 2, 'Mr. Henry Price Hodges', 'male', 50.0, 0, 0, 13.0), (1, 1, 'Mr. Norman Campbell Chambers', 'male', 27.0, 1, 0, 53.1), (1, 2, 'Mrs. Peter Henry (Lillian Jefferys) Renouf', 'female', 30.0, 3, 0, 21.0), (1, 3, 'Miss. Margareth Mannion', 'female', 28.0, 0, 0, 7.7375), (1, 1, 'Miss. Elisabeth Walton Allen', 'female', 29.0, 0, 0, 211.3375), (0, 2, 'Mr. Robert J Knight', 'male', 41.0, 0, 0, 0.0), (0, 3, 'Mr. Leslie Williams', 'male', 28.5, 0, 0, 16.1), (0, 3, 'Mrs. Edward (Margaret Ann Watson) Ford', 'female', 48.0, 1, 3, 34.375), (1, 1, 'Mr. Gustave J Lesurer', 'male', 35.0, 0, 0, 512.3292), (0, 3, 'Mr. Minko Nankoff', 'male', 32.0, 0, 0, 7.8958), (1, 1, 'Mr. Walter James Hawksford', 'male', 45.0, 0, 0, 30.0), (0, 1, 'Mr. Tyrell William Cavendish', 'male', 36.0, 1, 0, 78.85), (1, 3, 'Mr. Juho Stranden', 'male', 31.0, 0, 0, 7.925), (0, 1, 'Capt. Edward Gifford Crosby', 'male', 70.0, 1, 1, 71.0), (1, 2, 'Miss. Anna Sinkkonen', 'female', 30.0, 0, 0, 13.0), (0, 3, 'Mr. Michael Connaghton', 'male', 31.0, 0, 0, 7.75), (0, 3, 'Mr. Johannes Joseph Vande Velde', 'male', 33.0, 0, 0, 9.5), (1, 2, 'Mrs. Samuel (Jane Laver) Herman', 'female', 48.0, 1, 2, 65.0), (0, 3, 'Mr. August Sigfrid Carlsson', 'male', 28.0, 0, 0, 7.7958), (0, 3, 'Mr. Thomas Leonard Theobald', 'male', 34.0, 0, 0, 8.05), (1, 1, 'the Countess. of (Lucy Noel Martha Dyer-Edwards) Rothes', 'female', 33.0, 0, 0, 86.5), (0, 3, 'Mr. Iisakki Antino Aijo Nirva', 'male', 41.0, 0, 0, 7.125), (1, 1, 'Mrs. William Ernest (Lucile Polk) Carter', 'female', 36.0, 1, 2, 120.0), (1, 1, 'Mrs. John C (Anna Andrews) Hogeboom', 'female', 51.0, 1, 0, 77.9583), (0, 1, 'Dr. Arthur Jackson Brewe', 'male', 46.0, 0, 0, 39.6), (0, 3, 'Miss. Mary Mangan', 'female', 30.5, 0, 0, 7.75), (0, 3, 'Mr. Daniel J Moran', 'male', 28.0, 1, 0, 24.15), (0, 3, 'Mr. Daniel Danielsen Gronnestad', 'male', 32.0, 0, 0, 8.3625), (0, 3, 'Mr. Niels Peder Jensen', 'male', 48.0, 0, 0, 7.8542), (0, 2, 'Mrs. (Mary) Mack', 'female', 57.0, 0, 0, 10.5), (0, 3, 'Mr. Dibo Elias', 'male', 29.0, 0, 0, 7.225), (1, 2, 'Mrs. Elizabeth (Eliza Needs) Hocking', 'female', 54.0, 1, 3, 23.0), (1, 1, 'Mrs. Edward Scott (Elisabeth Walton McMillan) Robert', 'female', 43.0, 0, 1, 211.3375), (0, 1, 'Mr. Milton Clyde Long', 'male', 29.0, 0, 0, 30.0), (0, 3, 'Mr. Andrew G Johnston', 'male', 35.0, 1, 2, 23.45), (0, 1, 'Mr. Benjamin Guggenheim', 'male', 46.0, 0, 0, 79.2), (0, 1, 'Mr. William Fisher Hoyt', 'male', 43.0, 0, 0, 30.6958), (0, 2, 'Mr. Richard Otter', 'male', 39.0, 0, 0, 13.0), (1, 1, 'Dr. Alice (Farnham) Leader', 'female', 49.0, 0, 0, 25.9292), (1, 3, 'Mrs. Mara Osman', 'female', 31.0, 0, 0, 8.6833), (0, 3, 'Mr. Yousseff Ibrahim Shawah', 'male', 30.0, 0, 0, 7.2292), (0, 3, 'Mrs. Jean Baptiste (Rosalie Paula Govaert) Van Impe', 'female', 30.0, 1, 1, 24.15), (0, 2, 'Mr. Martin Ponesell', 'male', 34.0, 0, 0, 13.0), (1, 2, 'Mrs. Harvey (Charlotte Annie Tate) Collyer', 'female', 31.0, 1, 1, 26.25), (1, 3, 'Mr. Oskar Arvid Hedman', 'male', 27.0, 0, 0, 6.975), (0, 3, 'Mr. Karl Johan Johansson', 'male', 31.0, 0, 0, 7.775), (0, 1, 'Mr. Thomas Jr Andrews', 'male', 39.0, 0, 0, 0.0), (0, 2, 'Mr. August Meyer', 'male', 39.0, 0, 0, 13.0), (1, 1, 'Mrs. Norman Campbell (Bertha Griggs) Chambers', 'female', 33.0, 1, 0, 53.1), (0, 3, 'Mr. William Alexander', 'male', 26.0, 0, 0, 7.8875), (0, 3, 'Mr. James Lester', 'male', 39.0, 0, 0, 24.15), (0, 2, 'Mr. Richard James Slemen', 'male', 35.0, 0, 0, 10.5), (0, 3, 'Mr. Ernest Portage Tomlin', 'male', 30.5, 0, 0, 8.05), (0, 1, 'Mr. Richard Fry', 'male', 39.0, 0, 0, 0.0), (0, 2, 'Mr. Albert Mallet', 'male', 31.0, 1, 1, 37.0042), (0, 3, 'Mr. John Fredrik Alexander Holm', 'male', 43.0, 0, 0, 6.45), (1, 1, 'Mrs. Charles Melville (Clara Jennings Gregg) Hays', 'female', 52.0, 1, 1, 93.5), (1, 3, 'Mr. Nikola Lulic', 'male', 27.0, 0, 0, 8.6625), (0, 1, 'Jonkheer. John George Reuchlin', 'male', 38.0, 0, 0, 0.0), (1, 3, 'Mrs. (Beila) Moor', 'female', 27.0, 0, 1, 12.475), (0, 3, 'Mr. John Flynn', 'male', 36.0, 0, 0, 6.95), (1, 1, 'Mrs. George Nelson (Martha Evelyn) Stone', 'female', 62.0, 0, 0, 80.0), (0, 3, 'Mr. Amin Saad', 'male', 30.0, 0, 0, 7.2292), (1, 1, 'Miss. Sara Rebecca Compton', 'female', 39.0, 1, 1, 83.1583), (1, 3, 'Mr. Chang Chip', 'male', 32.0, 0, 0, 56.4958), (1, 1, 'Mr. Pierre Marechal', 'male', 29.0, 0, 0, 29.7), (1, 1, 'Miss. Augusta Serepeca', 'female', 30.0, 0, 0, 31.0), (0, 3, 'Mr. Peter L Lemberopolous', 'male', 34.5, 0, 0, 6.4375), (0, 3, 'Mr. Anthony Abbing', 'male', 42.0, 0, 0, 7.55), (0, 3, 'Mr. Marin Markoff', 'male', 35.0, 0, 0, 7.8958), (0, 2, 'Rev. John Harper', 'male', 28.0, 0, 1, 33.0), (1, 1, 'Mrs. Samuel L (Edwiga Grabowska) Goldenberg', 'female', 40.0, 1, 0, 89.1042), (0, 3, 'Mr. Johan Svensson', 'male', 74.0, 0, 0, 7.775), (0, 2, 'Mrs. Ernest Courtenay (Lilian Hughes) Carter', 'female', 44.0, 1, 0, 26.0), (1, 1, 'Mrs. George Dennick (Mary Hitchcock) Wick', 'female', 45.0, 1, 1, 164.8667), (1, 1, 'Mr. Peter Denis Daly', 'male', 51.0, 0, 0, 26.55), (0, 3, 'Mr. Raihed Razi', 'male', 30.0, 0, 0, 7.2292), (0, 3, 'Mr. Claus Peter Hansen', 'male', 41.0, 2, 0, 14.1083), (1, 1, 'Mrs. Frederick Joel (Margaret Welles Barron) Swift', 'female', 48.0, 0, 0, 25.9292), (1, 2, 'Mrs. (Karolina) Bystrom', 'female', 42.0, 0, 0, 13.0), (1, 2, 'Miss. Asuncion Duran y More', 'female', 27.0, 1, 0, 13.8583), (0, 1, 'Mr. Washington Augustus II Roebling', 'male', 31.0, 0, 0, 50.4958), (0, 3, 'Mr. Cerin Balkic', 'male', 26.0, 0, 0, 7.8958), (1, 1, 'Mrs. Richard Leonard (Sallie Monypeny) Beckwith', 'female', 47.0, 1, 1, 52.5542), (0, 1, 'Mr. Frans Olof Carlsson', 'male', 33.0, 0, 0, 5.0), (0, 3, 'Mr. Victor Vander Cruyssen', 'male', 47.0, 0, 0, 9.0), (1, 2, 'Mrs. Samuel (Hannah Wizosky) Abelson', 'female', 28.0, 1, 0, 24.0), (1, 1, 'Mrs. Thomas Jr (Lily Alexenia Wilson) Potter', 'female', 56.0, 0, 1, 83.1583), (0, 3, 'Mr. Johann Markun', 'male', 33.0, 0, 0, 7.8958), (0, 2, 'Mr. Frederick James Banfield', 'male', 28.0, 0, 0, 10.5), (0, 3, 'Mrs. William (Margaret Norton) Rice', 'female', 39.0, 0, 5, 29.125), (0, 2, 'Rev. Juozas Montvila', 'male', 27.0, 0, 0, 13.0), (1, 1, 'Mr. Karl Howell Behr', 'male', 26.0, 0, 0, 30.0), (0, 3, 'Mr. Patrick Dooley', 'male', 32.0, 0, 0, 7.75)]\u001b[0m"
     ]
    },
    {
     "ename": "APIError",
     "evalue": "Please reduce the length of the messages or completion.",
     "output_type": "error",
     "traceback": [
      "\u001b[1;31m---------------------------------------------------------------------------\u001b[0m",
      "\u001b[1;31mAPIError\u001b[0m                                  Traceback (most recent call last)",
      "Cell \u001b[1;32mIn[25], line 1\u001b[0m\n\u001b[1;32m----> 1\u001b[0m \u001b[43magent_executor\u001b[49m\u001b[38;5;241;43m.\u001b[39;49m\u001b[43minvoke\u001b[49m\u001b[43m(\u001b[49m\u001b[43m{\u001b[49m\u001b[38;5;124;43m\"\u001b[39;49m\u001b[38;5;124;43minput\u001b[39;49m\u001b[38;5;124;43m\"\u001b[39;49m\u001b[43m:\u001b[49m\u001b[43m \u001b[49m\u001b[38;5;124;43m\"\u001b[39;49m\u001b[38;5;124;43mprint all the data in the database\u001b[39;49m\u001b[38;5;124;43m\"\u001b[39;49m\u001b[43m}\u001b[49m\u001b[43m)\u001b[49m\n",
      "File \u001b[1;32m~\\AppData\\Local\\Programs\\Python\\Python310\\lib\\site-packages\\langchain\\chains\\base.py:170\u001b[0m, in \u001b[0;36mChain.invoke\u001b[1;34m(self, input, config, **kwargs)\u001b[0m\n\u001b[0;32m    168\u001b[0m \u001b[38;5;28;01mexcept\u001b[39;00m \u001b[38;5;167;01mBaseException\u001b[39;00m \u001b[38;5;28;01mas\u001b[39;00m e:\n\u001b[0;32m    169\u001b[0m     run_manager\u001b[38;5;241m.\u001b[39mon_chain_error(e)\n\u001b[1;32m--> 170\u001b[0m     \u001b[38;5;28;01mraise\u001b[39;00m e\n\u001b[0;32m    171\u001b[0m run_manager\u001b[38;5;241m.\u001b[39mon_chain_end(outputs)\n\u001b[0;32m    173\u001b[0m \u001b[38;5;28;01mif\u001b[39;00m include_run_info:\n",
      "File \u001b[1;32m~\\AppData\\Local\\Programs\\Python\\Python310\\lib\\site-packages\\langchain\\chains\\base.py:160\u001b[0m, in \u001b[0;36mChain.invoke\u001b[1;34m(self, input, config, **kwargs)\u001b[0m\n\u001b[0;32m    157\u001b[0m \u001b[38;5;28;01mtry\u001b[39;00m:\n\u001b[0;32m    158\u001b[0m     \u001b[38;5;28mself\u001b[39m\u001b[38;5;241m.\u001b[39m_validate_inputs(inputs)\n\u001b[0;32m    159\u001b[0m     outputs \u001b[38;5;241m=\u001b[39m (\n\u001b[1;32m--> 160\u001b[0m         \u001b[38;5;28;43mself\u001b[39;49m\u001b[38;5;241;43m.\u001b[39;49m\u001b[43m_call\u001b[49m\u001b[43m(\u001b[49m\u001b[43minputs\u001b[49m\u001b[43m,\u001b[49m\u001b[43m \u001b[49m\u001b[43mrun_manager\u001b[49m\u001b[38;5;241;43m=\u001b[39;49m\u001b[43mrun_manager\u001b[49m\u001b[43m)\u001b[49m\n\u001b[0;32m    161\u001b[0m         \u001b[38;5;28;01mif\u001b[39;00m new_arg_supported\n\u001b[0;32m    162\u001b[0m         \u001b[38;5;28;01melse\u001b[39;00m \u001b[38;5;28mself\u001b[39m\u001b[38;5;241m.\u001b[39m_call(inputs)\n\u001b[0;32m    163\u001b[0m     )\n\u001b[0;32m    165\u001b[0m     final_outputs: Dict[\u001b[38;5;28mstr\u001b[39m, Any] \u001b[38;5;241m=\u001b[39m \u001b[38;5;28mself\u001b[39m\u001b[38;5;241m.\u001b[39mprep_outputs(\n\u001b[0;32m    166\u001b[0m         inputs, outputs, return_only_outputs\n\u001b[0;32m    167\u001b[0m     )\n\u001b[0;32m    168\u001b[0m \u001b[38;5;28;01mexcept\u001b[39;00m \u001b[38;5;167;01mBaseException\u001b[39;00m \u001b[38;5;28;01mas\u001b[39;00m e:\n",
      "File \u001b[1;32m~\\AppData\\Local\\Programs\\Python\\Python310\\lib\\site-packages\\langchain\\agents\\agent.py:1624\u001b[0m, in \u001b[0;36mAgentExecutor._call\u001b[1;34m(self, inputs, run_manager)\u001b[0m\n\u001b[0;32m   1622\u001b[0m \u001b[38;5;66;03m# We now enter the agent loop (until it returns something).\u001b[39;00m\n\u001b[0;32m   1623\u001b[0m \u001b[38;5;28;01mwhile\u001b[39;00m \u001b[38;5;28mself\u001b[39m\u001b[38;5;241m.\u001b[39m_should_continue(iterations, time_elapsed):\n\u001b[1;32m-> 1624\u001b[0m     next_step_output \u001b[38;5;241m=\u001b[39m \u001b[38;5;28;43mself\u001b[39;49m\u001b[38;5;241;43m.\u001b[39;49m\u001b[43m_take_next_step\u001b[49m\u001b[43m(\u001b[49m\n\u001b[0;32m   1625\u001b[0m \u001b[43m        \u001b[49m\u001b[43mname_to_tool_map\u001b[49m\u001b[43m,\u001b[49m\n\u001b[0;32m   1626\u001b[0m \u001b[43m        \u001b[49m\u001b[43mcolor_mapping\u001b[49m\u001b[43m,\u001b[49m\n\u001b[0;32m   1627\u001b[0m \u001b[43m        \u001b[49m\u001b[43minputs\u001b[49m\u001b[43m,\u001b[49m\n\u001b[0;32m   1628\u001b[0m \u001b[43m        \u001b[49m\u001b[43mintermediate_steps\u001b[49m\u001b[43m,\u001b[49m\n\u001b[0;32m   1629\u001b[0m \u001b[43m        \u001b[49m\u001b[43mrun_manager\u001b[49m\u001b[38;5;241;43m=\u001b[39;49m\u001b[43mrun_manager\u001b[49m\u001b[43m,\u001b[49m\n\u001b[0;32m   1630\u001b[0m \u001b[43m    \u001b[49m\u001b[43m)\u001b[49m\n\u001b[0;32m   1631\u001b[0m     \u001b[38;5;28;01mif\u001b[39;00m \u001b[38;5;28misinstance\u001b[39m(next_step_output, AgentFinish):\n\u001b[0;32m   1632\u001b[0m         \u001b[38;5;28;01mreturn\u001b[39;00m \u001b[38;5;28mself\u001b[39m\u001b[38;5;241m.\u001b[39m_return(\n\u001b[0;32m   1633\u001b[0m             next_step_output, intermediate_steps, run_manager\u001b[38;5;241m=\u001b[39mrun_manager\n\u001b[0;32m   1634\u001b[0m         )\n",
      "File \u001b[1;32m~\\AppData\\Local\\Programs\\Python\\Python310\\lib\\site-packages\\langchain\\agents\\agent.py:1330\u001b[0m, in \u001b[0;36mAgentExecutor._take_next_step\u001b[1;34m(self, name_to_tool_map, color_mapping, inputs, intermediate_steps, run_manager)\u001b[0m\n\u001b[0;32m   1321\u001b[0m \u001b[38;5;28;01mdef\u001b[39;00m \u001b[38;5;21m_take_next_step\u001b[39m(\n\u001b[0;32m   1322\u001b[0m     \u001b[38;5;28mself\u001b[39m,\n\u001b[0;32m   1323\u001b[0m     name_to_tool_map: Dict[\u001b[38;5;28mstr\u001b[39m, BaseTool],\n\u001b[1;32m   (...)\u001b[0m\n\u001b[0;32m   1327\u001b[0m     run_manager: Optional[CallbackManagerForChainRun] \u001b[38;5;241m=\u001b[39m \u001b[38;5;28;01mNone\u001b[39;00m,\n\u001b[0;32m   1328\u001b[0m ) \u001b[38;5;241m-\u001b[39m\u001b[38;5;241m>\u001b[39m Union[AgentFinish, List[Tuple[AgentAction, \u001b[38;5;28mstr\u001b[39m]]]:\n\u001b[0;32m   1329\u001b[0m     \u001b[38;5;28;01mreturn\u001b[39;00m \u001b[38;5;28mself\u001b[39m\u001b[38;5;241m.\u001b[39m_consume_next_step(\n\u001b[1;32m-> 1330\u001b[0m         [\n\u001b[0;32m   1331\u001b[0m             a\n\u001b[0;32m   1332\u001b[0m             \u001b[38;5;28;01mfor\u001b[39;00m a \u001b[38;5;129;01min\u001b[39;00m \u001b[38;5;28mself\u001b[39m\u001b[38;5;241m.\u001b[39m_iter_next_step(\n\u001b[0;32m   1333\u001b[0m                 name_to_tool_map,\n\u001b[0;32m   1334\u001b[0m                 color_mapping,\n\u001b[0;32m   1335\u001b[0m                 inputs,\n\u001b[0;32m   1336\u001b[0m                 intermediate_steps,\n\u001b[0;32m   1337\u001b[0m                 run_manager,\n\u001b[0;32m   1338\u001b[0m             )\n\u001b[0;32m   1339\u001b[0m         ]\n\u001b[0;32m   1340\u001b[0m     )\n",
      "File \u001b[1;32m~\\AppData\\Local\\Programs\\Python\\Python310\\lib\\site-packages\\langchain\\agents\\agent.py:1330\u001b[0m, in \u001b[0;36m<listcomp>\u001b[1;34m(.0)\u001b[0m\n\u001b[0;32m   1321\u001b[0m \u001b[38;5;28;01mdef\u001b[39;00m \u001b[38;5;21m_take_next_step\u001b[39m(\n\u001b[0;32m   1322\u001b[0m     \u001b[38;5;28mself\u001b[39m,\n\u001b[0;32m   1323\u001b[0m     name_to_tool_map: Dict[\u001b[38;5;28mstr\u001b[39m, BaseTool],\n\u001b[1;32m   (...)\u001b[0m\n\u001b[0;32m   1327\u001b[0m     run_manager: Optional[CallbackManagerForChainRun] \u001b[38;5;241m=\u001b[39m \u001b[38;5;28;01mNone\u001b[39;00m,\n\u001b[0;32m   1328\u001b[0m ) \u001b[38;5;241m-\u001b[39m\u001b[38;5;241m>\u001b[39m Union[AgentFinish, List[Tuple[AgentAction, \u001b[38;5;28mstr\u001b[39m]]]:\n\u001b[0;32m   1329\u001b[0m     \u001b[38;5;28;01mreturn\u001b[39;00m \u001b[38;5;28mself\u001b[39m\u001b[38;5;241m.\u001b[39m_consume_next_step(\n\u001b[1;32m-> 1330\u001b[0m         [\n\u001b[0;32m   1331\u001b[0m             a\n\u001b[0;32m   1332\u001b[0m             \u001b[38;5;28;01mfor\u001b[39;00m a \u001b[38;5;129;01min\u001b[39;00m \u001b[38;5;28mself\u001b[39m\u001b[38;5;241m.\u001b[39m_iter_next_step(\n\u001b[0;32m   1333\u001b[0m                 name_to_tool_map,\n\u001b[0;32m   1334\u001b[0m                 color_mapping,\n\u001b[0;32m   1335\u001b[0m                 inputs,\n\u001b[0;32m   1336\u001b[0m                 intermediate_steps,\n\u001b[0;32m   1337\u001b[0m                 run_manager,\n\u001b[0;32m   1338\u001b[0m             )\n\u001b[0;32m   1339\u001b[0m         ]\n\u001b[0;32m   1340\u001b[0m     )\n",
      "File \u001b[1;32m~\\AppData\\Local\\Programs\\Python\\Python310\\lib\\site-packages\\langchain\\agents\\agent.py:1358\u001b[0m, in \u001b[0;36mAgentExecutor._iter_next_step\u001b[1;34m(self, name_to_tool_map, color_mapping, inputs, intermediate_steps, run_manager)\u001b[0m\n\u001b[0;32m   1355\u001b[0m     intermediate_steps \u001b[38;5;241m=\u001b[39m \u001b[38;5;28mself\u001b[39m\u001b[38;5;241m.\u001b[39m_prepare_intermediate_steps(intermediate_steps)\n\u001b[0;32m   1357\u001b[0m     \u001b[38;5;66;03m# Call the LLM to see what to do.\u001b[39;00m\n\u001b[1;32m-> 1358\u001b[0m     output \u001b[38;5;241m=\u001b[39m \u001b[38;5;28mself\u001b[39m\u001b[38;5;241m.\u001b[39m_action_agent\u001b[38;5;241m.\u001b[39mplan(\n\u001b[0;32m   1359\u001b[0m         intermediate_steps,\n\u001b[0;32m   1360\u001b[0m         callbacks\u001b[38;5;241m=\u001b[39mrun_manager\u001b[38;5;241m.\u001b[39mget_child() \u001b[38;5;28;01mif\u001b[39;00m run_manager \u001b[38;5;28;01melse\u001b[39;00m \u001b[38;5;28;01mNone\u001b[39;00m,\n\u001b[0;32m   1361\u001b[0m         \u001b[38;5;241m*\u001b[39m\u001b[38;5;241m*\u001b[39minputs,\n\u001b[0;32m   1362\u001b[0m     )\n\u001b[0;32m   1363\u001b[0m \u001b[38;5;28;01mexcept\u001b[39;00m OutputParserException \u001b[38;5;28;01mas\u001b[39;00m e:\n\u001b[0;32m   1364\u001b[0m     \u001b[38;5;28;01mif\u001b[39;00m \u001b[38;5;28misinstance\u001b[39m(\u001b[38;5;28mself\u001b[39m\u001b[38;5;241m.\u001b[39mhandle_parsing_errors, \u001b[38;5;28mbool\u001b[39m):\n",
      "File \u001b[1;32m~\\AppData\\Local\\Programs\\Python\\Python310\\lib\\site-packages\\langchain\\agents\\agent.py:581\u001b[0m, in \u001b[0;36mRunnableMultiActionAgent.plan\u001b[1;34m(self, intermediate_steps, callbacks, **kwargs)\u001b[0m\n\u001b[0;32m    573\u001b[0m final_output: Any \u001b[38;5;241m=\u001b[39m \u001b[38;5;28;01mNone\u001b[39;00m\n\u001b[0;32m    574\u001b[0m \u001b[38;5;28;01mif\u001b[39;00m \u001b[38;5;28mself\u001b[39m\u001b[38;5;241m.\u001b[39mstream_runnable:\n\u001b[0;32m    575\u001b[0m     \u001b[38;5;66;03m# Use streaming to make sure that the underlying LLM is invoked in a\u001b[39;00m\n\u001b[0;32m    576\u001b[0m     \u001b[38;5;66;03m# streaming\u001b[39;00m\n\u001b[1;32m   (...)\u001b[0m\n\u001b[0;32m    579\u001b[0m     \u001b[38;5;66;03m# Because the response from the plan is not a generator, we need to\u001b[39;00m\n\u001b[0;32m    580\u001b[0m     \u001b[38;5;66;03m# accumulate the output into final output and return that.\u001b[39;00m\n\u001b[1;32m--> 581\u001b[0m     \u001b[38;5;28;01mfor\u001b[39;00m chunk \u001b[38;5;129;01min\u001b[39;00m \u001b[38;5;28mself\u001b[39m\u001b[38;5;241m.\u001b[39mrunnable\u001b[38;5;241m.\u001b[39mstream(inputs, config\u001b[38;5;241m=\u001b[39m{\u001b[38;5;124m\"\u001b[39m\u001b[38;5;124mcallbacks\u001b[39m\u001b[38;5;124m\"\u001b[39m: callbacks}):\n\u001b[0;32m    582\u001b[0m         \u001b[38;5;28;01mif\u001b[39;00m final_output \u001b[38;5;129;01mis\u001b[39;00m \u001b[38;5;28;01mNone\u001b[39;00m:\n\u001b[0;32m    583\u001b[0m             final_output \u001b[38;5;241m=\u001b[39m chunk\n",
      "File \u001b[1;32m~\\AppData\\Local\\Programs\\Python\\Python310\\lib\\site-packages\\langchain_core\\runnables\\base.py:3405\u001b[0m, in \u001b[0;36mRunnableSequence.stream\u001b[1;34m(self, input, config, **kwargs)\u001b[0m\n\u001b[0;32m   3399\u001b[0m \u001b[38;5;28;01mdef\u001b[39;00m \u001b[38;5;21mstream\u001b[39m(\n\u001b[0;32m   3400\u001b[0m     \u001b[38;5;28mself\u001b[39m,\n\u001b[0;32m   3401\u001b[0m     \u001b[38;5;28minput\u001b[39m: Input,\n\u001b[0;32m   3402\u001b[0m     config: Optional[RunnableConfig] \u001b[38;5;241m=\u001b[39m \u001b[38;5;28;01mNone\u001b[39;00m,\n\u001b[0;32m   3403\u001b[0m     \u001b[38;5;241m*\u001b[39m\u001b[38;5;241m*\u001b[39mkwargs: Optional[Any],\n\u001b[0;32m   3404\u001b[0m ) \u001b[38;5;241m-\u001b[39m\u001b[38;5;241m>\u001b[39m Iterator[Output]:\n\u001b[1;32m-> 3405\u001b[0m     \u001b[38;5;28;01myield from\u001b[39;00m \u001b[38;5;28mself\u001b[39m\u001b[38;5;241m.\u001b[39mtransform(\u001b[38;5;28miter\u001b[39m([\u001b[38;5;28minput\u001b[39m]), config, \u001b[38;5;241m*\u001b[39m\u001b[38;5;241m*\u001b[39mkwargs)\n",
      "File \u001b[1;32m~\\AppData\\Local\\Programs\\Python\\Python310\\lib\\site-packages\\langchain_core\\runnables\\base.py:3392\u001b[0m, in \u001b[0;36mRunnableSequence.transform\u001b[1;34m(self, input, config, **kwargs)\u001b[0m\n\u001b[0;32m   3386\u001b[0m \u001b[38;5;28;01mdef\u001b[39;00m \u001b[38;5;21mtransform\u001b[39m(\n\u001b[0;32m   3387\u001b[0m     \u001b[38;5;28mself\u001b[39m,\n\u001b[0;32m   3388\u001b[0m     \u001b[38;5;28minput\u001b[39m: Iterator[Input],\n\u001b[0;32m   3389\u001b[0m     config: Optional[RunnableConfig] \u001b[38;5;241m=\u001b[39m \u001b[38;5;28;01mNone\u001b[39;00m,\n\u001b[0;32m   3390\u001b[0m     \u001b[38;5;241m*\u001b[39m\u001b[38;5;241m*\u001b[39mkwargs: Optional[Any],\n\u001b[0;32m   3391\u001b[0m ) \u001b[38;5;241m-\u001b[39m\u001b[38;5;241m>\u001b[39m Iterator[Output]:\n\u001b[1;32m-> 3392\u001b[0m     \u001b[38;5;28;01myield from\u001b[39;00m \u001b[38;5;28mself\u001b[39m\u001b[38;5;241m.\u001b[39m_transform_stream_with_config(\n\u001b[0;32m   3393\u001b[0m         \u001b[38;5;28minput\u001b[39m,\n\u001b[0;32m   3394\u001b[0m         \u001b[38;5;28mself\u001b[39m\u001b[38;5;241m.\u001b[39m_transform,\n\u001b[0;32m   3395\u001b[0m         patch_config(config, run_name\u001b[38;5;241m=\u001b[39m(config \u001b[38;5;129;01mor\u001b[39;00m {})\u001b[38;5;241m.\u001b[39mget(\u001b[38;5;124m\"\u001b[39m\u001b[38;5;124mrun_name\u001b[39m\u001b[38;5;124m\"\u001b[39m) \u001b[38;5;129;01mor\u001b[39;00m \u001b[38;5;28mself\u001b[39m\u001b[38;5;241m.\u001b[39mname),\n\u001b[0;32m   3396\u001b[0m         \u001b[38;5;241m*\u001b[39m\u001b[38;5;241m*\u001b[39mkwargs,\n\u001b[0;32m   3397\u001b[0m     )\n",
      "File \u001b[1;32m~\\AppData\\Local\\Programs\\Python\\Python310\\lib\\site-packages\\langchain_core\\runnables\\base.py:2195\u001b[0m, in \u001b[0;36mRunnable._transform_stream_with_config\u001b[1;34m(self, input, transformer, config, run_type, **kwargs)\u001b[0m\n\u001b[0;32m   2193\u001b[0m \u001b[38;5;28;01mtry\u001b[39;00m:\n\u001b[0;32m   2194\u001b[0m     \u001b[38;5;28;01mwhile\u001b[39;00m \u001b[38;5;28;01mTrue\u001b[39;00m:\n\u001b[1;32m-> 2195\u001b[0m         chunk: Output \u001b[38;5;241m=\u001b[39m \u001b[43mcontext\u001b[49m\u001b[38;5;241;43m.\u001b[39;49m\u001b[43mrun\u001b[49m\u001b[43m(\u001b[49m\u001b[38;5;28;43mnext\u001b[39;49m\u001b[43m,\u001b[49m\u001b[43m \u001b[49m\u001b[43miterator\u001b[49m\u001b[43m)\u001b[49m  \u001b[38;5;66;03m# type: ignore\u001b[39;00m\n\u001b[0;32m   2196\u001b[0m         \u001b[38;5;28;01myield\u001b[39;00m chunk\n\u001b[0;32m   2197\u001b[0m         \u001b[38;5;28;01mif\u001b[39;00m final_output_supported:\n",
      "File \u001b[1;32m~\\AppData\\Local\\Programs\\Python\\Python310\\lib\\site-packages\\langchain_core\\runnables\\base.py:3355\u001b[0m, in \u001b[0;36mRunnableSequence._transform\u001b[1;34m(self, input, run_manager, config, **kwargs)\u001b[0m\n\u001b[0;32m   3352\u001b[0m     \u001b[38;5;28;01melse\u001b[39;00m:\n\u001b[0;32m   3353\u001b[0m         final_pipeline \u001b[38;5;241m=\u001b[39m step\u001b[38;5;241m.\u001b[39mtransform(final_pipeline, config)\n\u001b[1;32m-> 3355\u001b[0m \u001b[38;5;28;01myield from\u001b[39;00m final_pipeline\n",
      "File \u001b[1;32m~\\AppData\\Local\\Programs\\Python\\Python310\\lib\\site-packages\\langchain_core\\runnables\\base.py:1411\u001b[0m, in \u001b[0;36mRunnable.transform\u001b[1;34m(self, input, config, **kwargs)\u001b[0m\n\u001b[0;32m   1408\u001b[0m final: Input\n\u001b[0;32m   1409\u001b[0m got_first_val \u001b[38;5;241m=\u001b[39m \u001b[38;5;28;01mFalse\u001b[39;00m\n\u001b[1;32m-> 1411\u001b[0m \u001b[38;5;28;01mfor\u001b[39;00m ichunk \u001b[38;5;129;01min\u001b[39;00m \u001b[38;5;28minput\u001b[39m:\n\u001b[0;32m   1412\u001b[0m     \u001b[38;5;66;03m# The default implementation of transform is to buffer input and\u001b[39;00m\n\u001b[0;32m   1413\u001b[0m     \u001b[38;5;66;03m# then call stream.\u001b[39;00m\n\u001b[0;32m   1414\u001b[0m     \u001b[38;5;66;03m# It'll attempt to gather all input into a single chunk using\u001b[39;00m\n\u001b[0;32m   1415\u001b[0m     \u001b[38;5;66;03m# the `+` operator.\u001b[39;00m\n\u001b[0;32m   1416\u001b[0m     \u001b[38;5;66;03m# If the input is not addable, then we'll assume that we can\u001b[39;00m\n\u001b[0;32m   1417\u001b[0m     \u001b[38;5;66;03m# only operate on the last chunk,\u001b[39;00m\n\u001b[0;32m   1418\u001b[0m     \u001b[38;5;66;03m# and we'll iterate until we get to the last chunk.\u001b[39;00m\n\u001b[0;32m   1419\u001b[0m     \u001b[38;5;28;01mif\u001b[39;00m \u001b[38;5;129;01mnot\u001b[39;00m got_first_val:\n\u001b[0;32m   1420\u001b[0m         final \u001b[38;5;241m=\u001b[39m ichunk\n",
      "File \u001b[1;32m~\\AppData\\Local\\Programs\\Python\\Python310\\lib\\site-packages\\langchain_core\\runnables\\base.py:5559\u001b[0m, in \u001b[0;36mRunnableBindingBase.transform\u001b[1;34m(self, input, config, **kwargs)\u001b[0m\n\u001b[0;32m   5553\u001b[0m \u001b[38;5;28;01mdef\u001b[39;00m \u001b[38;5;21mtransform\u001b[39m(\n\u001b[0;32m   5554\u001b[0m     \u001b[38;5;28mself\u001b[39m,\n\u001b[0;32m   5555\u001b[0m     \u001b[38;5;28minput\u001b[39m: Iterator[Input],\n\u001b[0;32m   5556\u001b[0m     config: Optional[RunnableConfig] \u001b[38;5;241m=\u001b[39m \u001b[38;5;28;01mNone\u001b[39;00m,\n\u001b[0;32m   5557\u001b[0m     \u001b[38;5;241m*\u001b[39m\u001b[38;5;241m*\u001b[39mkwargs: Any,\n\u001b[0;32m   5558\u001b[0m ) \u001b[38;5;241m-\u001b[39m\u001b[38;5;241m>\u001b[39m Iterator[Output]:\n\u001b[1;32m-> 5559\u001b[0m     \u001b[38;5;28;01myield from\u001b[39;00m \u001b[38;5;28mself\u001b[39m\u001b[38;5;241m.\u001b[39mbound\u001b[38;5;241m.\u001b[39mtransform(\n\u001b[0;32m   5560\u001b[0m         \u001b[38;5;28minput\u001b[39m,\n\u001b[0;32m   5561\u001b[0m         \u001b[38;5;28mself\u001b[39m\u001b[38;5;241m.\u001b[39m_merge_configs(config),\n\u001b[0;32m   5562\u001b[0m         \u001b[38;5;241m*\u001b[39m\u001b[38;5;241m*\u001b[39m{\u001b[38;5;241m*\u001b[39m\u001b[38;5;241m*\u001b[39m\u001b[38;5;28mself\u001b[39m\u001b[38;5;241m.\u001b[39mkwargs, \u001b[38;5;241m*\u001b[39m\u001b[38;5;241m*\u001b[39mkwargs},\n\u001b[0;32m   5563\u001b[0m     )\n",
      "File \u001b[1;32m~\\AppData\\Local\\Programs\\Python\\Python310\\lib\\site-packages\\langchain_core\\runnables\\base.py:1429\u001b[0m, in \u001b[0;36mRunnable.transform\u001b[1;34m(self, input, config, **kwargs)\u001b[0m\n\u001b[0;32m   1426\u001b[0m             final \u001b[38;5;241m=\u001b[39m ichunk\n\u001b[0;32m   1428\u001b[0m \u001b[38;5;28;01mif\u001b[39;00m got_first_val:\n\u001b[1;32m-> 1429\u001b[0m     \u001b[38;5;28;01myield from\u001b[39;00m \u001b[38;5;28mself\u001b[39m\u001b[38;5;241m.\u001b[39mstream(final, config, \u001b[38;5;241m*\u001b[39m\u001b[38;5;241m*\u001b[39mkwargs)\n",
      "File \u001b[1;32m~\\AppData\\Local\\Programs\\Python\\Python310\\lib\\site-packages\\langchain_core\\language_models\\chat_models.py:422\u001b[0m, in \u001b[0;36mBaseChatModel.stream\u001b[1;34m(self, input, config, stop, **kwargs)\u001b[0m\n\u001b[0;32m    415\u001b[0m \u001b[38;5;28;01mexcept\u001b[39;00m \u001b[38;5;167;01mBaseException\u001b[39;00m \u001b[38;5;28;01mas\u001b[39;00m e:\n\u001b[0;32m    416\u001b[0m     run_manager\u001b[38;5;241m.\u001b[39mon_llm_error(\n\u001b[0;32m    417\u001b[0m         e,\n\u001b[0;32m    418\u001b[0m         response\u001b[38;5;241m=\u001b[39mLLMResult(\n\u001b[0;32m    419\u001b[0m             generations\u001b[38;5;241m=\u001b[39m[[generation]] \u001b[38;5;28;01mif\u001b[39;00m generation \u001b[38;5;28;01melse\u001b[39;00m []\n\u001b[0;32m    420\u001b[0m         ),\n\u001b[0;32m    421\u001b[0m     )\n\u001b[1;32m--> 422\u001b[0m     \u001b[38;5;28;01mraise\u001b[39;00m e\n\u001b[0;32m    423\u001b[0m \u001b[38;5;28;01melse\u001b[39;00m:\n\u001b[0;32m    424\u001b[0m     run_manager\u001b[38;5;241m.\u001b[39mon_llm_end(LLMResult(generations\u001b[38;5;241m=\u001b[39m[[generation]]))\n",
      "File \u001b[1;32m~\\AppData\\Local\\Programs\\Python\\Python310\\lib\\site-packages\\langchain_core\\language_models\\chat_models.py:400\u001b[0m, in \u001b[0;36mBaseChatModel.stream\u001b[1;34m(self, input, config, stop, **kwargs)\u001b[0m\n\u001b[0;32m    397\u001b[0m     \u001b[38;5;28mself\u001b[39m\u001b[38;5;241m.\u001b[39mrate_limiter\u001b[38;5;241m.\u001b[39macquire(blocking\u001b[38;5;241m=\u001b[39m\u001b[38;5;28;01mTrue\u001b[39;00m)\n\u001b[0;32m    399\u001b[0m \u001b[38;5;28;01mtry\u001b[39;00m:\n\u001b[1;32m--> 400\u001b[0m     \u001b[38;5;28;01mfor\u001b[39;00m chunk \u001b[38;5;129;01min\u001b[39;00m \u001b[38;5;28mself\u001b[39m\u001b[38;5;241m.\u001b[39m_stream(messages, stop\u001b[38;5;241m=\u001b[39mstop, \u001b[38;5;241m*\u001b[39m\u001b[38;5;241m*\u001b[39mkwargs):\n\u001b[0;32m    401\u001b[0m         \u001b[38;5;28;01mif\u001b[39;00m chunk\u001b[38;5;241m.\u001b[39mmessage\u001b[38;5;241m.\u001b[39mid \u001b[38;5;129;01mis\u001b[39;00m \u001b[38;5;28;01mNone\u001b[39;00m:\n\u001b[0;32m    402\u001b[0m             chunk\u001b[38;5;241m.\u001b[39mmessage\u001b[38;5;241m.\u001b[39mid \u001b[38;5;241m=\u001b[39m \u001b[38;5;124mf\u001b[39m\u001b[38;5;124m\"\u001b[39m\u001b[38;5;124mrun-\u001b[39m\u001b[38;5;132;01m{\u001b[39;00mrun_manager\u001b[38;5;241m.\u001b[39mrun_id\u001b[38;5;132;01m}\u001b[39;00m\u001b[38;5;124m\"\u001b[39m\n",
      "File \u001b[1;32m~\\AppData\\Local\\Programs\\Python\\Python310\\lib\\site-packages\\langchain_groq\\chat_models.py:516\u001b[0m, in \u001b[0;36mChatGroq._stream\u001b[1;34m(self, messages, stop, run_manager, **kwargs)\u001b[0m\n\u001b[0;32m    513\u001b[0m params \u001b[38;5;241m=\u001b[39m {\u001b[38;5;241m*\u001b[39m\u001b[38;5;241m*\u001b[39mparams, \u001b[38;5;241m*\u001b[39m\u001b[38;5;241m*\u001b[39mkwargs, \u001b[38;5;124m\"\u001b[39m\u001b[38;5;124mstream\u001b[39m\u001b[38;5;124m\"\u001b[39m: \u001b[38;5;28;01mTrue\u001b[39;00m}\n\u001b[0;32m    515\u001b[0m default_chunk_class: Type[BaseMessageChunk] \u001b[38;5;241m=\u001b[39m AIMessageChunk\n\u001b[1;32m--> 516\u001b[0m \u001b[38;5;28;01mfor\u001b[39;00m chunk \u001b[38;5;129;01min\u001b[39;00m \u001b[38;5;28mself\u001b[39m\u001b[38;5;241m.\u001b[39mclient\u001b[38;5;241m.\u001b[39mcreate(messages\u001b[38;5;241m=\u001b[39mmessage_dicts, \u001b[38;5;241m*\u001b[39m\u001b[38;5;241m*\u001b[39mparams):\n\u001b[0;32m    517\u001b[0m     \u001b[38;5;28;01mif\u001b[39;00m \u001b[38;5;129;01mnot\u001b[39;00m \u001b[38;5;28misinstance\u001b[39m(chunk, \u001b[38;5;28mdict\u001b[39m):\n\u001b[0;32m    518\u001b[0m         chunk \u001b[38;5;241m=\u001b[39m chunk\u001b[38;5;241m.\u001b[39mmodel_dump()\n",
      "File \u001b[1;32m~\\AppData\\Local\\Programs\\Python\\Python310\\lib\\site-packages\\groq\\_streaming.py:46\u001b[0m, in \u001b[0;36mStream.__iter__\u001b[1;34m(self)\u001b[0m\n\u001b[0;32m     45\u001b[0m \u001b[38;5;28;01mdef\u001b[39;00m \u001b[38;5;21m__iter__\u001b[39m(\u001b[38;5;28mself\u001b[39m) \u001b[38;5;241m-\u001b[39m\u001b[38;5;241m>\u001b[39m Iterator[_T]:\n\u001b[1;32m---> 46\u001b[0m     \u001b[38;5;28;01mfor\u001b[39;00m item \u001b[38;5;129;01min\u001b[39;00m \u001b[38;5;28mself\u001b[39m\u001b[38;5;241m.\u001b[39m_iterator:\n\u001b[0;32m     47\u001b[0m         \u001b[38;5;28;01myield\u001b[39;00m item\n",
      "File \u001b[1;32m~\\AppData\\Local\\Programs\\Python\\Python310\\lib\\site-packages\\groq\\_streaming.py:91\u001b[0m, in \u001b[0;36mStream.__stream__\u001b[1;34m(self)\u001b[0m\n\u001b[0;32m     88\u001b[0m             \u001b[38;5;28;01mif\u001b[39;00m \u001b[38;5;129;01mnot\u001b[39;00m message \u001b[38;5;129;01mor\u001b[39;00m \u001b[38;5;129;01mnot\u001b[39;00m \u001b[38;5;28misinstance\u001b[39m(message, \u001b[38;5;28mstr\u001b[39m):\n\u001b[0;32m     89\u001b[0m                 message \u001b[38;5;241m=\u001b[39m \u001b[38;5;124m\"\u001b[39m\u001b[38;5;124mAn error occurred during streaming\u001b[39m\u001b[38;5;124m\"\u001b[39m\n\u001b[1;32m---> 91\u001b[0m             \u001b[38;5;28;01mraise\u001b[39;00m APIError(\n\u001b[0;32m     92\u001b[0m                 message\u001b[38;5;241m=\u001b[39mmessage,\n\u001b[0;32m     93\u001b[0m                 request\u001b[38;5;241m=\u001b[39m\u001b[38;5;28mself\u001b[39m\u001b[38;5;241m.\u001b[39mresponse\u001b[38;5;241m.\u001b[39mrequest,\n\u001b[0;32m     94\u001b[0m                 body\u001b[38;5;241m=\u001b[39mdata[\u001b[38;5;124m\"\u001b[39m\u001b[38;5;124merror\u001b[39m\u001b[38;5;124m\"\u001b[39m],\n\u001b[0;32m     95\u001b[0m             )\n\u001b[0;32m     97\u001b[0m         \u001b[38;5;28;01myield\u001b[39;00m process_data(data\u001b[38;5;241m=\u001b[39m{\u001b[38;5;124m\"\u001b[39m\u001b[38;5;124mdata\u001b[39m\u001b[38;5;124m\"\u001b[39m: data, \u001b[38;5;124m\"\u001b[39m\u001b[38;5;124mevent\u001b[39m\u001b[38;5;124m\"\u001b[39m: sse\u001b[38;5;241m.\u001b[39mevent}, cast_to\u001b[38;5;241m=\u001b[39mcast_to, response\u001b[38;5;241m=\u001b[39mresponse)\n\u001b[0;32m     99\u001b[0m \u001b[38;5;66;03m# Ensure the entire stream is consumed\u001b[39;00m\n",
      "\u001b[1;31mAPIError\u001b[0m: Please reduce the length of the messages or completion."
     ]
    }
   ],
   "source": [
    "agent_executor.invoke({\"input\": \"print all the data in the database\"})"
   ]
  },
  {
   "cell_type": "code",
   "execution_count": 32,
   "id": "37bf4e88-8726-4a83-8a59-2c6b1b2b3707",
   "metadata": {},
   "outputs": [
    {
     "name": "stdout",
     "output_type": "stream",
     "text": [
      "\n",
      "\n",
      "\u001b[1m> Entering new SQL Agent Executor chain...\u001b[0m\n",
      "\u001b[32;1m\u001b[1;3m\u001b[0m\n",
      "\n",
      "\u001b[1m> Finished chain.\u001b[0m\n"
     ]
    },
    {
     "data": {
      "text/plain": [
       "{'input': 'give metop 10 rows in the database', 'output': ''}"
      ]
     },
     "execution_count": 32,
     "metadata": {},
     "output_type": "execute_result"
    }
   ],
   "source": [
    "agent_executor.invoke({\"input\": \"give metop 10 rows in the database\"})"
   ]
  },
  {
   "cell_type": "code",
   "execution_count": 13,
   "id": "3653e189-3068-43ae-aa29-4f7b2072a23f",
   "metadata": {},
   "outputs": [
    {
     "name": "stdout",
     "output_type": "stream",
     "text": [
      "\n",
      "\n",
      "\u001b[1m> Entering new SQL Agent Executor chain...\u001b[0m\n",
      "\u001b[32;1m\u001b[1;3m\n",
      "Invoking: `sql_db_list_tables` with `{'tool_input': ''}`\n",
      "responded:   I will start by looking at the tables in the database. \n",
      "\n",
      "\n",
      "\u001b[0m\u001b[38;5;200m\u001b[1;3mtitanic\u001b[0m\u001b[32;1m\u001b[1;3m\n",
      "Invoking: `sql_db_schema` with `{'table_names': 'titanic'}`\n",
      "\n",
      "\n",
      "\u001b[0m\u001b[33;1m\u001b[1;3m\n",
      "CREATE TABLE titanic (\n",
      "\t\"Survived\" BIGINT, \n",
      "\t\"Pclass\" BIGINT, \n",
      "\t\"Name\" TEXT, \n",
      "\t\"Sex\" TEXT, \n",
      "\t\"Age\" FLOAT, \n",
      "\t\"Siblings/Spouses Aboard\" BIGINT, \n",
      "\t\"Parents/Children Aboard\" BIGINT, \n",
      "\t\"Fare\" FLOAT\n",
      ")\n",
      "\n",
      "/*\n",
      "3 rows from titanic table:\n",
      "Survived\tPclass\tName\tSex\tAge\tSiblings/Spouses Aboard\tParents/Children Aboard\tFare\n",
      "0\t3\tMr. Owen Harris Braund\tmale\t22.0\t1\t0\t7.25\n",
      "1\t1\tMrs. John Bradley (Florence Briggs Thayer) Cumings\tfemale\t38.0\t1\t0\t71.2833\n",
      "1\t3\tMiss. Laina Heikkinen\tfemale\t26.0\t0\t0\t7.925\n",
      "*/\u001b[0m\u001b[32;1m\u001b[1;3mThe column names are: \n",
      "1. Survived \n",
      "2. Pclass \n",
      "3. Name \n",
      "4. Sex \n",
      "5. Age \n",
      "6. Siblings/Spouses Aboard \n",
      "7. Parents/Children Aboard \n",
      "8. Fare\u001b[0m\n",
      "\n",
      "\u001b[1m> Finished chain.\u001b[0m\n"
     ]
    },
    {
     "data": {
      "text/plain": [
       "{'input': 'give me the column names',\n",
       " 'output': 'The column names are: \\n1. Survived \\n2. Pclass \\n3. Name \\n4. Sex \\n5. Age \\n6. Siblings/Spouses Aboard \\n7. Parents/Children Aboard \\n8. Fare'}"
      ]
     },
     "execution_count": 13,
     "metadata": {},
     "output_type": "execute_result"
    }
   ],
   "source": [
    "agent_executor.invoke({\"input\": \"give me the column names\"})"
   ]
  }
 ],
 "metadata": {
  "kernelspec": {
   "display_name": "Python 3 (ipykernel)",
   "language": "python",
   "name": "python3"
  },
  "language_info": {
   "codemirror_mode": {
    "name": "ipython",
    "version": 3
   },
   "file_extension": ".py",
   "mimetype": "text/x-python",
   "name": "python",
   "nbconvert_exporter": "python",
   "pygments_lexer": "ipython3",
   "version": "3.10.10"
  }
 },
 "nbformat": 4,
 "nbformat_minor": 5
}
